{
 "cells": [
  {
   "attachments": {},
   "cell_type": "markdown",
   "metadata": {},
   "source": [
    "- Repeat BaseLine_Model with normalised data.\n",
    "    - Recall that one way to normalize the data is by subtracting the mean from the individual predictors and dividing by the standard deviation.\n",
    "- How does the mean of the mean squared errors compare to that from BaseLine_Model?"
   ]
  },
  {
   "cell_type": "code",
   "execution_count": 2,
   "metadata": {},
   "outputs": [],
   "source": [
    "import pandas as pd\n",
    "import numpy as np\n",
    "import keras\n",
    "from keras.models import Sequential\n",
    "from keras.layers import Dense\n",
    "from sklearn.model_selection import train_test_split\n",
    "from sklearn.metrics import mean_squared_error\n",
    "from tqdm import tqdm"
   ]
  },
  {
   "cell_type": "code",
   "execution_count": 4,
   "metadata": {},
   "outputs": [
    {
     "data": {
      "text/html": [
       "<div>\n",
       "<style scoped>\n",
       "    .dataframe tbody tr th:only-of-type {\n",
       "        vertical-align: middle;\n",
       "    }\n",
       "\n",
       "    .dataframe tbody tr th {\n",
       "        vertical-align: top;\n",
       "    }\n",
       "\n",
       "    .dataframe thead th {\n",
       "        text-align: right;\n",
       "    }\n",
       "</style>\n",
       "<table border=\"1\" class=\"dataframe\">\n",
       "  <thead>\n",
       "    <tr style=\"text-align: right;\">\n",
       "      <th></th>\n",
       "      <th>Cement</th>\n",
       "      <th>Blast Furnace Slag</th>\n",
       "      <th>Fly Ash</th>\n",
       "      <th>Water</th>\n",
       "      <th>Superplasticizer</th>\n",
       "      <th>Coarse Aggregate</th>\n",
       "      <th>Fine Aggregate</th>\n",
       "      <th>Age</th>\n",
       "      <th>Strength</th>\n",
       "    </tr>\n",
       "  </thead>\n",
       "  <tbody>\n",
       "    <tr>\n",
       "      <th>0</th>\n",
       "      <td>540.0</td>\n",
       "      <td>0.0</td>\n",
       "      <td>0.0</td>\n",
       "      <td>162.0</td>\n",
       "      <td>2.5</td>\n",
       "      <td>1040.0</td>\n",
       "      <td>676.0</td>\n",
       "      <td>28</td>\n",
       "      <td>79.99</td>\n",
       "    </tr>\n",
       "    <tr>\n",
       "      <th>1</th>\n",
       "      <td>540.0</td>\n",
       "      <td>0.0</td>\n",
       "      <td>0.0</td>\n",
       "      <td>162.0</td>\n",
       "      <td>2.5</td>\n",
       "      <td>1055.0</td>\n",
       "      <td>676.0</td>\n",
       "      <td>28</td>\n",
       "      <td>61.89</td>\n",
       "    </tr>\n",
       "    <tr>\n",
       "      <th>2</th>\n",
       "      <td>332.5</td>\n",
       "      <td>142.5</td>\n",
       "      <td>0.0</td>\n",
       "      <td>228.0</td>\n",
       "      <td>0.0</td>\n",
       "      <td>932.0</td>\n",
       "      <td>594.0</td>\n",
       "      <td>270</td>\n",
       "      <td>40.27</td>\n",
       "    </tr>\n",
       "    <tr>\n",
       "      <th>3</th>\n",
       "      <td>332.5</td>\n",
       "      <td>142.5</td>\n",
       "      <td>0.0</td>\n",
       "      <td>228.0</td>\n",
       "      <td>0.0</td>\n",
       "      <td>932.0</td>\n",
       "      <td>594.0</td>\n",
       "      <td>365</td>\n",
       "      <td>41.05</td>\n",
       "    </tr>\n",
       "    <tr>\n",
       "      <th>4</th>\n",
       "      <td>198.6</td>\n",
       "      <td>132.4</td>\n",
       "      <td>0.0</td>\n",
       "      <td>192.0</td>\n",
       "      <td>0.0</td>\n",
       "      <td>978.4</td>\n",
       "      <td>825.5</td>\n",
       "      <td>360</td>\n",
       "      <td>44.30</td>\n",
       "    </tr>\n",
       "  </tbody>\n",
       "</table>\n",
       "</div>"
      ],
      "text/plain": [
       "   Cement  Blast Furnace Slag  Fly Ash  Water  Superplasticizer  \\\n",
       "0   540.0                 0.0      0.0  162.0               2.5   \n",
       "1   540.0                 0.0      0.0  162.0               2.5   \n",
       "2   332.5               142.5      0.0  228.0               0.0   \n",
       "3   332.5               142.5      0.0  228.0               0.0   \n",
       "4   198.6               132.4      0.0  192.0               0.0   \n",
       "\n",
       "   Coarse Aggregate  Fine Aggregate  Age  Strength  \n",
       "0            1040.0           676.0   28     79.99  \n",
       "1            1055.0           676.0   28     61.89  \n",
       "2             932.0           594.0  270     40.27  \n",
       "3             932.0           594.0  365     41.05  \n",
       "4             978.4           825.5  360     44.30  "
      ]
     },
     "execution_count": 4,
     "metadata": {},
     "output_type": "execute_result"
    }
   ],
   "source": [
    "concrete_data = pd.read_csv('https://cocl.us/concrete_data')\n",
    "concrete_data.head()"
   ]
  },
  {
   "cell_type": "code",
   "execution_count": 5,
   "metadata": {},
   "outputs": [
    {
     "data": {
      "text/html": [
       "<div>\n",
       "<style scoped>\n",
       "    .dataframe tbody tr th:only-of-type {\n",
       "        vertical-align: middle;\n",
       "    }\n",
       "\n",
       "    .dataframe tbody tr th {\n",
       "        vertical-align: top;\n",
       "    }\n",
       "\n",
       "    .dataframe thead th {\n",
       "        text-align: right;\n",
       "    }\n",
       "</style>\n",
       "<table border=\"1\" class=\"dataframe\">\n",
       "  <thead>\n",
       "    <tr style=\"text-align: right;\">\n",
       "      <th></th>\n",
       "      <th>Cement</th>\n",
       "      <th>Blast Furnace Slag</th>\n",
       "      <th>Fly Ash</th>\n",
       "      <th>Water</th>\n",
       "      <th>Superplasticizer</th>\n",
       "      <th>Coarse Aggregate</th>\n",
       "      <th>Fine Aggregate</th>\n",
       "      <th>Age</th>\n",
       "      <th>Strength</th>\n",
       "    </tr>\n",
       "  </thead>\n",
       "  <tbody>\n",
       "    <tr>\n",
       "      <th>count</th>\n",
       "      <td>1030.000000</td>\n",
       "      <td>1030.000000</td>\n",
       "      <td>1030.000000</td>\n",
       "      <td>1030.000000</td>\n",
       "      <td>1030.000000</td>\n",
       "      <td>1030.000000</td>\n",
       "      <td>1030.000000</td>\n",
       "      <td>1030.000000</td>\n",
       "      <td>1030.000000</td>\n",
       "    </tr>\n",
       "    <tr>\n",
       "      <th>mean</th>\n",
       "      <td>281.167864</td>\n",
       "      <td>73.895825</td>\n",
       "      <td>54.188350</td>\n",
       "      <td>181.567282</td>\n",
       "      <td>6.204660</td>\n",
       "      <td>972.918932</td>\n",
       "      <td>773.580485</td>\n",
       "      <td>45.662136</td>\n",
       "      <td>35.817961</td>\n",
       "    </tr>\n",
       "    <tr>\n",
       "      <th>std</th>\n",
       "      <td>104.506364</td>\n",
       "      <td>86.279342</td>\n",
       "      <td>63.997004</td>\n",
       "      <td>21.354219</td>\n",
       "      <td>5.973841</td>\n",
       "      <td>77.753954</td>\n",
       "      <td>80.175980</td>\n",
       "      <td>63.169912</td>\n",
       "      <td>16.705742</td>\n",
       "    </tr>\n",
       "    <tr>\n",
       "      <th>min</th>\n",
       "      <td>102.000000</td>\n",
       "      <td>0.000000</td>\n",
       "      <td>0.000000</td>\n",
       "      <td>121.800000</td>\n",
       "      <td>0.000000</td>\n",
       "      <td>801.000000</td>\n",
       "      <td>594.000000</td>\n",
       "      <td>1.000000</td>\n",
       "      <td>2.330000</td>\n",
       "    </tr>\n",
       "    <tr>\n",
       "      <th>25%</th>\n",
       "      <td>192.375000</td>\n",
       "      <td>0.000000</td>\n",
       "      <td>0.000000</td>\n",
       "      <td>164.900000</td>\n",
       "      <td>0.000000</td>\n",
       "      <td>932.000000</td>\n",
       "      <td>730.950000</td>\n",
       "      <td>7.000000</td>\n",
       "      <td>23.710000</td>\n",
       "    </tr>\n",
       "    <tr>\n",
       "      <th>50%</th>\n",
       "      <td>272.900000</td>\n",
       "      <td>22.000000</td>\n",
       "      <td>0.000000</td>\n",
       "      <td>185.000000</td>\n",
       "      <td>6.400000</td>\n",
       "      <td>968.000000</td>\n",
       "      <td>779.500000</td>\n",
       "      <td>28.000000</td>\n",
       "      <td>34.445000</td>\n",
       "    </tr>\n",
       "    <tr>\n",
       "      <th>75%</th>\n",
       "      <td>350.000000</td>\n",
       "      <td>142.950000</td>\n",
       "      <td>118.300000</td>\n",
       "      <td>192.000000</td>\n",
       "      <td>10.200000</td>\n",
       "      <td>1029.400000</td>\n",
       "      <td>824.000000</td>\n",
       "      <td>56.000000</td>\n",
       "      <td>46.135000</td>\n",
       "    </tr>\n",
       "    <tr>\n",
       "      <th>max</th>\n",
       "      <td>540.000000</td>\n",
       "      <td>359.400000</td>\n",
       "      <td>200.100000</td>\n",
       "      <td>247.000000</td>\n",
       "      <td>32.200000</td>\n",
       "      <td>1145.000000</td>\n",
       "      <td>992.600000</td>\n",
       "      <td>365.000000</td>\n",
       "      <td>82.600000</td>\n",
       "    </tr>\n",
       "  </tbody>\n",
       "</table>\n",
       "</div>"
      ],
      "text/plain": [
       "            Cement  Blast Furnace Slag      Fly Ash        Water  \\\n",
       "count  1030.000000         1030.000000  1030.000000  1030.000000   \n",
       "mean    281.167864           73.895825    54.188350   181.567282   \n",
       "std     104.506364           86.279342    63.997004    21.354219   \n",
       "min     102.000000            0.000000     0.000000   121.800000   \n",
       "25%     192.375000            0.000000     0.000000   164.900000   \n",
       "50%     272.900000           22.000000     0.000000   185.000000   \n",
       "75%     350.000000          142.950000   118.300000   192.000000   \n",
       "max     540.000000          359.400000   200.100000   247.000000   \n",
       "\n",
       "       Superplasticizer  Coarse Aggregate  Fine Aggregate          Age  \\\n",
       "count       1030.000000       1030.000000     1030.000000  1030.000000   \n",
       "mean           6.204660        972.918932      773.580485    45.662136   \n",
       "std            5.973841         77.753954       80.175980    63.169912   \n",
       "min            0.000000        801.000000      594.000000     1.000000   \n",
       "25%            0.000000        932.000000      730.950000     7.000000   \n",
       "50%            6.400000        968.000000      779.500000    28.000000   \n",
       "75%           10.200000       1029.400000      824.000000    56.000000   \n",
       "max           32.200000       1145.000000      992.600000   365.000000   \n",
       "\n",
       "          Strength  \n",
       "count  1030.000000  \n",
       "mean     35.817961  \n",
       "std      16.705742  \n",
       "min       2.330000  \n",
       "25%      23.710000  \n",
       "50%      34.445000  \n",
       "75%      46.135000  \n",
       "max      82.600000  "
      ]
     },
     "execution_count": 5,
     "metadata": {},
     "output_type": "execute_result"
    }
   ],
   "source": [
    "# find some quick useful statistics\n",
    "concrete_data.describe()"
   ]
  },
  {
   "cell_type": "code",
   "execution_count": 6,
   "metadata": {},
   "outputs": [
    {
     "data": {
      "text/plain": [
       "Cement                0\n",
       "Blast Furnace Slag    0\n",
       "Fly Ash               0\n",
       "Water                 0\n",
       "Superplasticizer      0\n",
       "Coarse Aggregate      0\n",
       "Fine Aggregate        0\n",
       "Age                   0\n",
       "Strength              0\n",
       "dtype: int64"
      ]
     },
     "execution_count": 6,
     "metadata": {},
     "output_type": "execute_result"
    }
   ],
   "source": [
    "concrete_data.isnull().sum()"
   ]
  },
  {
   "cell_type": "code",
   "execution_count": 7,
   "metadata": {},
   "outputs": [],
   "source": [
    "#Split the data into predictor and target variables for Regression model\n",
    "concrete_data_columns = concrete_data.columns\n",
    "\n",
    "predictors = concrete_data[concrete_data_columns[concrete_data_columns != 'Strength']] # all columns except Strength\n",
    "target = concrete_data['Strength'] # Strength column\n",
    "X = predictors\n",
    "y = target"
   ]
  },
  {
   "cell_type": "code",
   "execution_count": 8,
   "metadata": {},
   "outputs": [
    {
     "data": {
      "text/plain": [
       "8"
      ]
     },
     "execution_count": 8,
     "metadata": {},
     "output_type": "execute_result"
    }
   ],
   "source": [
    "n_cols = X.shape[1]\n",
    "n_cols"
   ]
  },
  {
   "attachments": {},
   "cell_type": "markdown",
   "metadata": {},
   "source": [
    "- Make Normalization"
   ]
  },
  {
   "cell_type": "code",
   "execution_count": 9,
   "metadata": {},
   "outputs": [
    {
     "data": {
      "text/html": [
       "<div>\n",
       "<style scoped>\n",
       "    .dataframe tbody tr th:only-of-type {\n",
       "        vertical-align: middle;\n",
       "    }\n",
       "\n",
       "    .dataframe tbody tr th {\n",
       "        vertical-align: top;\n",
       "    }\n",
       "\n",
       "    .dataframe thead th {\n",
       "        text-align: right;\n",
       "    }\n",
       "</style>\n",
       "<table border=\"1\" class=\"dataframe\">\n",
       "  <thead>\n",
       "    <tr style=\"text-align: right;\">\n",
       "      <th></th>\n",
       "      <th>Cement</th>\n",
       "      <th>Blast Furnace Slag</th>\n",
       "      <th>Fly Ash</th>\n",
       "      <th>Water</th>\n",
       "      <th>Superplasticizer</th>\n",
       "      <th>Coarse Aggregate</th>\n",
       "      <th>Fine Aggregate</th>\n",
       "      <th>Age</th>\n",
       "    </tr>\n",
       "  </thead>\n",
       "  <tbody>\n",
       "    <tr>\n",
       "      <th>0</th>\n",
       "      <td>2.476712</td>\n",
       "      <td>-0.856472</td>\n",
       "      <td>-0.846733</td>\n",
       "      <td>-0.916319</td>\n",
       "      <td>-0.620147</td>\n",
       "      <td>0.862735</td>\n",
       "      <td>-1.217079</td>\n",
       "      <td>-0.279597</td>\n",
       "    </tr>\n",
       "    <tr>\n",
       "      <th>1</th>\n",
       "      <td>2.476712</td>\n",
       "      <td>-0.856472</td>\n",
       "      <td>-0.846733</td>\n",
       "      <td>-0.916319</td>\n",
       "      <td>-0.620147</td>\n",
       "      <td>1.055651</td>\n",
       "      <td>-1.217079</td>\n",
       "      <td>-0.279597</td>\n",
       "    </tr>\n",
       "    <tr>\n",
       "      <th>2</th>\n",
       "      <td>0.491187</td>\n",
       "      <td>0.795140</td>\n",
       "      <td>-0.846733</td>\n",
       "      <td>2.174405</td>\n",
       "      <td>-1.038638</td>\n",
       "      <td>-0.526262</td>\n",
       "      <td>-2.239829</td>\n",
       "      <td>3.551340</td>\n",
       "    </tr>\n",
       "    <tr>\n",
       "      <th>3</th>\n",
       "      <td>0.491187</td>\n",
       "      <td>0.795140</td>\n",
       "      <td>-0.846733</td>\n",
       "      <td>2.174405</td>\n",
       "      <td>-1.038638</td>\n",
       "      <td>-0.526262</td>\n",
       "      <td>-2.239829</td>\n",
       "      <td>5.055221</td>\n",
       "    </tr>\n",
       "    <tr>\n",
       "      <th>4</th>\n",
       "      <td>-0.790075</td>\n",
       "      <td>0.678079</td>\n",
       "      <td>-0.846733</td>\n",
       "      <td>0.488555</td>\n",
       "      <td>-1.038638</td>\n",
       "      <td>0.070492</td>\n",
       "      <td>0.647569</td>\n",
       "      <td>4.976069</td>\n",
       "    </tr>\n",
       "  </tbody>\n",
       "</table>\n",
       "</div>"
      ],
      "text/plain": [
       "     Cement  Blast Furnace Slag   Fly Ash     Water  Superplasticizer  \\\n",
       "0  2.476712           -0.856472 -0.846733 -0.916319         -0.620147   \n",
       "1  2.476712           -0.856472 -0.846733 -0.916319         -0.620147   \n",
       "2  0.491187            0.795140 -0.846733  2.174405         -1.038638   \n",
       "3  0.491187            0.795140 -0.846733  2.174405         -1.038638   \n",
       "4 -0.790075            0.678079 -0.846733  0.488555         -1.038638   \n",
       "\n",
       "   Coarse Aggregate  Fine Aggregate       Age  \n",
       "0          0.862735       -1.217079 -0.279597  \n",
       "1          1.055651       -1.217079 -0.279597  \n",
       "2         -0.526262       -2.239829  3.551340  \n",
       "3         -0.526262       -2.239829  5.055221  \n",
       "4          0.070492        0.647569  4.976069  "
      ]
     },
     "execution_count": 9,
     "metadata": {},
     "output_type": "execute_result"
    }
   ],
   "source": [
    "predictors_norm = (predictors - predictors.mean()) / predictors.std()\n",
    "predictors_norm.head()"
   ]
  },
  {
   "cell_type": "code",
   "execution_count": 21,
   "metadata": {},
   "outputs": [
    {
     "data": {
      "text/html": [
       "<div>\n",
       "<style scoped>\n",
       "    .dataframe tbody tr th:only-of-type {\n",
       "        vertical-align: middle;\n",
       "    }\n",
       "\n",
       "    .dataframe tbody tr th {\n",
       "        vertical-align: top;\n",
       "    }\n",
       "\n",
       "    .dataframe thead th {\n",
       "        text-align: right;\n",
       "    }\n",
       "</style>\n",
       "<table border=\"1\" class=\"dataframe\">\n",
       "  <thead>\n",
       "    <tr style=\"text-align: right;\">\n",
       "      <th></th>\n",
       "      <th>Cement</th>\n",
       "      <th>Blast Furnace Slag</th>\n",
       "      <th>Fly Ash</th>\n",
       "      <th>Water</th>\n",
       "      <th>Superplasticizer</th>\n",
       "      <th>Coarse Aggregate</th>\n",
       "      <th>Fine Aggregate</th>\n",
       "      <th>Age</th>\n",
       "    </tr>\n",
       "  </thead>\n",
       "  <tbody>\n",
       "    <tr>\n",
       "      <th>0</th>\n",
       "      <td>2.476712</td>\n",
       "      <td>-0.856472</td>\n",
       "      <td>-0.846733</td>\n",
       "      <td>-0.916319</td>\n",
       "      <td>-0.620147</td>\n",
       "      <td>0.862735</td>\n",
       "      <td>-1.217079</td>\n",
       "      <td>-0.279597</td>\n",
       "    </tr>\n",
       "    <tr>\n",
       "      <th>1</th>\n",
       "      <td>2.476712</td>\n",
       "      <td>-0.856472</td>\n",
       "      <td>-0.846733</td>\n",
       "      <td>-0.916319</td>\n",
       "      <td>-0.620147</td>\n",
       "      <td>1.055651</td>\n",
       "      <td>-1.217079</td>\n",
       "      <td>-0.279597</td>\n",
       "    </tr>\n",
       "    <tr>\n",
       "      <th>2</th>\n",
       "      <td>0.491187</td>\n",
       "      <td>0.795140</td>\n",
       "      <td>-0.846733</td>\n",
       "      <td>2.174405</td>\n",
       "      <td>-1.038638</td>\n",
       "      <td>-0.526262</td>\n",
       "      <td>-2.239829</td>\n",
       "      <td>3.551340</td>\n",
       "    </tr>\n",
       "    <tr>\n",
       "      <th>3</th>\n",
       "      <td>0.491187</td>\n",
       "      <td>0.795140</td>\n",
       "      <td>-0.846733</td>\n",
       "      <td>2.174405</td>\n",
       "      <td>-1.038638</td>\n",
       "      <td>-0.526262</td>\n",
       "      <td>-2.239829</td>\n",
       "      <td>5.055221</td>\n",
       "    </tr>\n",
       "    <tr>\n",
       "      <th>4</th>\n",
       "      <td>-0.790075</td>\n",
       "      <td>0.678079</td>\n",
       "      <td>-0.846733</td>\n",
       "      <td>0.488555</td>\n",
       "      <td>-1.038638</td>\n",
       "      <td>0.070492</td>\n",
       "      <td>0.647569</td>\n",
       "      <td>4.976069</td>\n",
       "    </tr>\n",
       "  </tbody>\n",
       "</table>\n",
       "</div>"
      ],
      "text/plain": [
       "     Cement  Blast Furnace Slag   Fly Ash     Water  Superplasticizer  \\\n",
       "0  2.476712           -0.856472 -0.846733 -0.916319         -0.620147   \n",
       "1  2.476712           -0.856472 -0.846733 -0.916319         -0.620147   \n",
       "2  0.491187            0.795140 -0.846733  2.174405         -1.038638   \n",
       "3  0.491187            0.795140 -0.846733  2.174405         -1.038638   \n",
       "4 -0.790075            0.678079 -0.846733  0.488555         -1.038638   \n",
       "\n",
       "   Coarse Aggregate  Fine Aggregate       Age  \n",
       "0          0.862735       -1.217079 -0.279597  \n",
       "1          1.055651       -1.217079 -0.279597  \n",
       "2         -0.526262       -2.239829  3.551340  \n",
       "3         -0.526262       -2.239829  5.055221  \n",
       "4          0.070492        0.647569  4.976069  "
      ]
     },
     "execution_count": 21,
     "metadata": {},
     "output_type": "execute_result"
    }
   ],
   "source": [
    "X_norm = predictors_norm\n",
    "X_norm.head()"
   ]
  },
  {
   "cell_type": "code",
   "execution_count": 11,
   "metadata": {},
   "outputs": [
    {
     "data": {
      "text/plain": [
       "0    79.99\n",
       "1    61.89\n",
       "2    40.27\n",
       "3    41.05\n",
       "4    44.30\n",
       "Name: Strength, dtype: float64"
      ]
     },
     "execution_count": 11,
     "metadata": {},
     "output_type": "execute_result"
    }
   ],
   "source": [
    "y.head()"
   ]
  },
  {
   "cell_type": "markdown",
   "metadata": {},
   "source": [
    "- Split the data into training and test sets with scikitlearn"
   ]
  },
  {
   "cell_type": "code",
   "execution_count": 22,
   "metadata": {},
   "outputs": [],
   "source": [
    "X_train, X_test, y_train, y_test = train_test_split(X_norm, y, test_size=0.30, random_state=42)"
   ]
  },
  {
   "cell_type": "markdown",
   "metadata": {},
   "source": [
    "- Build the neural network, train using 50 epochs"
   ]
  },
  {
   "cell_type": "code",
   "execution_count": 23,
   "metadata": {},
   "outputs": [],
   "source": [
    "# define regression model\n",
    "def regression_model():\n",
    "    # Construct the Network \n",
    "    model = Sequential()\n",
    "    model.add(Dense(10, activation='relu', input_shape=(n_cols,)))\n",
    "    model.add(Dense(1))\n",
    "    \n",
    "    # compile model\n",
    "    model.compile(optimizer='adam', loss='mean_squared_error')\n",
    "    return model"
   ]
  },
  {
   "cell_type": "code",
   "execution_count": 24,
   "metadata": {},
   "outputs": [
    {
     "name": "stdout",
     "output_type": "stream",
     "text": [
      "Epoch 1/50\n",
      "23/23 [==============================] - 1s 2ms/step - loss: 1602.1824\n",
      "Epoch 2/50\n",
      "23/23 [==============================] - 0s 3ms/step - loss: 1584.9337\n",
      "Epoch 3/50\n",
      "23/23 [==============================] - 0s 3ms/step - loss: 1567.8754\n",
      "Epoch 4/50\n",
      "23/23 [==============================] - 0s 3ms/step - loss: 1550.9735\n",
      "Epoch 5/50\n",
      "23/23 [==============================] - 0s 3ms/step - loss: 1533.7020\n",
      "Epoch 6/50\n",
      "23/23 [==============================] - 0s 5ms/step - loss: 1516.3132\n",
      "Epoch 7/50\n",
      "23/23 [==============================] - 0s 4ms/step - loss: 1498.3481\n",
      "Epoch 8/50\n",
      "23/23 [==============================] - 0s 3ms/step - loss: 1479.5599\n",
      "Epoch 9/50\n",
      "23/23 [==============================] - 0s 5ms/step - loss: 1460.1641\n",
      "Epoch 10/50\n",
      "23/23 [==============================] - 0s 3ms/step - loss: 1439.9386\n",
      "Epoch 11/50\n",
      "23/23 [==============================] - 0s 3ms/step - loss: 1418.6423\n",
      "Epoch 12/50\n",
      "23/23 [==============================] - 0s 3ms/step - loss: 1396.0815\n",
      "Epoch 13/50\n",
      "23/23 [==============================] - 0s 2ms/step - loss: 1372.8279\n",
      "Epoch 14/50\n",
      "23/23 [==============================] - 0s 2ms/step - loss: 1348.5560\n",
      "Epoch 15/50\n",
      "23/23 [==============================] - 0s 2ms/step - loss: 1322.7915\n",
      "Epoch 16/50\n",
      "23/23 [==============================] - 0s 2ms/step - loss: 1296.5232\n",
      "Epoch 17/50\n",
      "23/23 [==============================] - 0s 2ms/step - loss: 1268.9885\n",
      "Epoch 18/50\n",
      "23/23 [==============================] - 0s 3ms/step - loss: 1240.1185\n",
      "Epoch 19/50\n",
      "23/23 [==============================] - 0s 2ms/step - loss: 1211.3893\n",
      "Epoch 20/50\n",
      "23/23 [==============================] - 0s 2ms/step - loss: 1180.9098\n",
      "Epoch 21/50\n",
      "23/23 [==============================] - 0s 1ms/step - loss: 1150.4801\n",
      "Epoch 22/50\n",
      "23/23 [==============================] - 0s 1ms/step - loss: 1119.6035\n",
      "Epoch 23/50\n",
      "23/23 [==============================] - 0s 2ms/step - loss: 1087.3855\n",
      "Epoch 24/50\n",
      "23/23 [==============================] - 0s 2ms/step - loss: 1055.2134\n",
      "Epoch 25/50\n",
      "23/23 [==============================] - 0s 2ms/step - loss: 1022.6690\n",
      "Epoch 26/50\n",
      "23/23 [==============================] - 0s 2ms/step - loss: 989.0099\n",
      "Epoch 27/50\n",
      "23/23 [==============================] - 0s 1ms/step - loss: 955.5889\n",
      "Epoch 28/50\n",
      "23/23 [==============================] - 0s 2ms/step - loss: 922.6635\n",
      "Epoch 29/50\n",
      "23/23 [==============================] - 0s 2ms/step - loss: 888.8975\n",
      "Epoch 30/50\n",
      "23/23 [==============================] - 0s 2ms/step - loss: 855.5276\n",
      "Epoch 31/50\n",
      "23/23 [==============================] - 0s 2ms/step - loss: 822.1710\n",
      "Epoch 32/50\n",
      "23/23 [==============================] - 0s 2ms/step - loss: 789.5899\n",
      "Epoch 33/50\n",
      "23/23 [==============================] - 0s 2ms/step - loss: 757.0293\n",
      "Epoch 34/50\n",
      "23/23 [==============================] - 0s 2ms/step - loss: 725.6857\n",
      "Epoch 35/50\n",
      "23/23 [==============================] - 0s 5ms/step - loss: 694.0557\n",
      "Epoch 36/50\n",
      "23/23 [==============================] - 0s 3ms/step - loss: 664.1436\n",
      "Epoch 37/50\n",
      "23/23 [==============================] - 0s 3ms/step - loss: 635.0012\n",
      "Epoch 38/50\n",
      "23/23 [==============================] - 0s 2ms/step - loss: 606.9299\n",
      "Epoch 39/50\n",
      "23/23 [==============================] - 0s 4ms/step - loss: 579.4764\n",
      "Epoch 40/50\n",
      "23/23 [==============================] - 0s 2ms/step - loss: 553.4434\n",
      "Epoch 41/50\n",
      "23/23 [==============================] - 0s 2ms/step - loss: 528.7853\n",
      "Epoch 42/50\n",
      "23/23 [==============================] - 0s 3ms/step - loss: 504.6591\n",
      "Epoch 43/50\n",
      "23/23 [==============================] - 0s 3ms/step - loss: 482.2650\n",
      "Epoch 44/50\n",
      "23/23 [==============================] - 0s 3ms/step - loss: 460.7612\n",
      "Epoch 45/50\n",
      "23/23 [==============================] - 0s 2ms/step - loss: 440.6628\n",
      "Epoch 46/50\n",
      "23/23 [==============================] - 0s 1ms/step - loss: 421.7593\n",
      "Epoch 47/50\n",
      "23/23 [==============================] - 0s 2ms/step - loss: 404.3863\n",
      "Epoch 48/50\n",
      "23/23 [==============================] - 0s 2ms/step - loss: 387.7941\n",
      "Epoch 49/50\n",
      "23/23 [==============================] - 0s 2ms/step - loss: 372.5232\n",
      "Epoch 50/50\n",
      "23/23 [==============================] - 0s 2ms/step - loss: 358.5366\n"
     ]
    },
    {
     "data": {
      "text/plain": [
       "<keras.callbacks.History at 0x1cb6b8c8280>"
      ]
     },
     "execution_count": 24,
     "metadata": {},
     "output_type": "execute_result"
    }
   ],
   "source": [
    "model = regression_model()\n",
    "model.fit(X_train, y_train, epochs=50, verbose=1)"
   ]
  },
  {
   "cell_type": "code",
   "execution_count": 25,
   "metadata": {},
   "outputs": [
    {
     "name": "stdout",
     "output_type": "stream",
     "text": [
      "10/10 [==============================] - 0s 2ms/step - loss: 320.7303\n"
     ]
    },
    {
     "data": {
      "text/plain": [
       "320.73028564453125"
      ]
     },
     "execution_count": 25,
     "metadata": {},
     "output_type": "execute_result"
    }
   ],
   "source": [
    "#Model evaulation on tested data\n",
    "model.evaluate(X_test, y_test)"
   ]
  },
  {
   "cell_type": "code",
   "execution_count": 26,
   "metadata": {},
   "outputs": [
    {
     "name": "stdout",
     "output_type": "stream",
     "text": [
      "10/10 [==============================] - 0s 5ms/step\n"
     ]
    },
    {
     "data": {
      "text/plain": [
       "array([[50.225864 ],\n",
       "       [25.858511 ],\n",
       "       [46.13838  ],\n",
       "       [25.653313 ],\n",
       "       [20.867226 ],\n",
       "       [18.196274 ],\n",
       "       [10.385321 ],\n",
       "       [40.844208 ],\n",
       "       [32.589622 ],\n",
       "       [19.268534 ],\n",
       "       [17.99307  ],\n",
       "       [12.657227 ],\n",
       "       [73.113914 ],\n",
       "       [23.333244 ],\n",
       "       [23.135962 ],\n",
       "       [24.497513 ],\n",
       "       [10.948334 ],\n",
       "       [17.779753 ],\n",
       "       [12.1731205],\n",
       "       [12.772827 ],\n",
       "       [18.983683 ],\n",
       "       [24.586044 ],\n",
       "       [27.811064 ],\n",
       "       [18.310383 ],\n",
       "       [25.763617 ],\n",
       "       [36.112362 ],\n",
       "       [13.557608 ],\n",
       "       [20.547789 ],\n",
       "       [33.030704 ],\n",
       "       [10.980091 ],\n",
       "       [30.886496 ],\n",
       "       [16.932781 ],\n",
       "       [32.217083 ],\n",
       "       [37.931652 ],\n",
       "       [11.9381485],\n",
       "       [28.140423 ],\n",
       "       [30.950266 ],\n",
       "       [17.883348 ],\n",
       "       [ 6.4419484],\n",
       "       [22.75592  ],\n",
       "       [16.092388 ],\n",
       "       [ 5.9785504],\n",
       "       [12.983282 ],\n",
       "       [43.19127  ],\n",
       "       [ 9.336441 ],\n",
       "       [27.268627 ],\n",
       "       [50.079674 ],\n",
       "       [38.838596 ],\n",
       "       [ 8.143515 ],\n",
       "       [12.15486  ],\n",
       "       [15.24918  ],\n",
       "       [18.86524  ],\n",
       "       [13.224867 ],\n",
       "       [18.24192  ],\n",
       "       [32.19922  ],\n",
       "       [23.904243 ],\n",
       "       [32.587105 ],\n",
       "       [15.645836 ],\n",
       "       [25.077185 ],\n",
       "       [16.314579 ],\n",
       "       [17.360254 ],\n",
       "       [10.024487 ],\n",
       "       [13.531235 ],\n",
       "       [45.196712 ],\n",
       "       [13.292892 ],\n",
       "       [18.28253  ],\n",
       "       [14.59712  ],\n",
       "       [15.168131 ],\n",
       "       [11.083149 ],\n",
       "       [13.078001 ],\n",
       "       [ 8.125948 ],\n",
       "       [ 8.384556 ],\n",
       "       [ 5.517858 ],\n",
       "       [17.940315 ],\n",
       "       [11.559692 ],\n",
       "       [14.419794 ],\n",
       "       [49.28403  ],\n",
       "       [42.094894 ],\n",
       "       [27.079231 ],\n",
       "       [ 9.423918 ],\n",
       "       [24.564531 ],\n",
       "       [39.917812 ],\n",
       "       [13.5074215],\n",
       "       [17.178595 ],\n",
       "       [56.844925 ],\n",
       "       [25.653313 ],\n",
       "       [18.314077 ],\n",
       "       [10.185728 ],\n",
       "       [18.775248 ],\n",
       "       [ 9.552671 ],\n",
       "       [19.174807 ],\n",
       "       [41.78396  ],\n",
       "       [24.246284 ],\n",
       "       [18.599983 ],\n",
       "       [15.219536 ],\n",
       "       [42.120407 ],\n",
       "       [26.04389  ],\n",
       "       [ 8.584801 ],\n",
       "       [16.870625 ],\n",
       "       [12.291288 ],\n",
       "       [22.115553 ],\n",
       "       [15.220091 ],\n",
       "       [40.280457 ],\n",
       "       [21.152887 ],\n",
       "       [75.189514 ],\n",
       "       [15.066071 ],\n",
       "       [23.968496 ],\n",
       "       [14.1118355],\n",
       "       [31.389856 ],\n",
       "       [35.269077 ],\n",
       "       [43.491295 ],\n",
       "       [34.711605 ],\n",
       "       [26.581211 ],\n",
       "       [27.410976 ],\n",
       "       [38.792217 ],\n",
       "       [39.95689  ],\n",
       "       [11.333633 ],\n",
       "       [25.404753 ],\n",
       "       [34.63733  ],\n",
       "       [15.236879 ],\n",
       "       [17.424475 ],\n",
       "       [ 8.581932 ],\n",
       "       [33.890907 ],\n",
       "       [13.992126 ],\n",
       "       [ 9.422184 ],\n",
       "       [19.739388 ],\n",
       "       [44.739784 ],\n",
       "       [47.529118 ],\n",
       "       [15.097197 ],\n",
       "       [10.953796 ],\n",
       "       [15.51058  ],\n",
       "       [34.71493  ],\n",
       "       [13.103628 ],\n",
       "       [28.209305 ],\n",
       "       [10.590227 ],\n",
       "       [46.8558   ],\n",
       "       [14.198368 ],\n",
       "       [18.272846 ],\n",
       "       [29.647127 ],\n",
       "       [16.533798 ],\n",
       "       [28.381975 ],\n",
       "       [22.040148 ],\n",
       "       [22.87941  ],\n",
       "       [10.437952 ],\n",
       "       [19.44322  ],\n",
       "       [14.2922325],\n",
       "       [17.998465 ],\n",
       "       [19.906881 ],\n",
       "       [ 6.132427 ],\n",
       "       [16.155521 ],\n",
       "       [34.713825 ],\n",
       "       [30.852695 ],\n",
       "       [39.585766 ],\n",
       "       [28.055452 ],\n",
       "       [27.557386 ],\n",
       "       [15.328897 ],\n",
       "       [10.747072 ],\n",
       "       [54.321026 ],\n",
       "       [25.858513 ],\n",
       "       [17.918858 ],\n",
       "       [ 6.0956187],\n",
       "       [68.51592  ],\n",
       "       [27.81439  ],\n",
       "       [37.411243 ],\n",
       "       [47.434994 ],\n",
       "       [39.94528  ],\n",
       "       [32.614204 ],\n",
       "       [12.841856 ],\n",
       "       [37.44318  ],\n",
       "       [40.851894 ],\n",
       "       [28.347282 ],\n",
       "       [11.126013 ],\n",
       "       [24.986559 ],\n",
       "       [22.718756 ],\n",
       "       [23.44366  ],\n",
       "       [11.06876  ],\n",
       "       [ 8.227953 ],\n",
       "       [42.09838  ],\n",
       "       [18.018652 ],\n",
       "       [22.418982 ],\n",
       "       [15.660002 ],\n",
       "       [ 7.7331724],\n",
       "       [35.14084  ],\n",
       "       [22.453823 ],\n",
       "       [36.29081  ],\n",
       "       [39.294907 ],\n",
       "       [17.827497 ],\n",
       "       [29.02776  ],\n",
       "       [18.66249  ],\n",
       "       [11.924168 ],\n",
       "       [39.48961  ],\n",
       "       [30.061243 ],\n",
       "       [27.984592 ],\n",
       "       [36.2755   ],\n",
       "       [35.049274 ],\n",
       "       [21.983053 ],\n",
       "       [36.928913 ],\n",
       "       [31.292854 ],\n",
       "       [11.469402 ],\n",
       "       [14.216436 ],\n",
       "       [21.525896 ],\n",
       "       [39.95689  ],\n",
       "       [10.824705 ],\n",
       "       [27.637812 ],\n",
       "       [38.07389  ],\n",
       "       [15.567694 ],\n",
       "       [17.692785 ],\n",
       "       [32.687164 ],\n",
       "       [28.1454   ],\n",
       "       [14.344355 ],\n",
       "       [25.315018 ],\n",
       "       [23.415104 ],\n",
       "       [14.353027 ],\n",
       "       [ 9.413719 ],\n",
       "       [17.896275 ],\n",
       "       [ 7.576053 ],\n",
       "       [20.956892 ],\n",
       "       [14.965284 ],\n",
       "       [11.572384 ],\n",
       "       [27.013119 ],\n",
       "       [19.973736 ],\n",
       "       [28.46514  ],\n",
       "       [39.286385 ],\n",
       "       [15.839874 ],\n",
       "       [20.546614 ],\n",
       "       [18.940973 ],\n",
       "       [10.277447 ],\n",
       "       [10.813213 ],\n",
       "       [26.007374 ],\n",
       "       [11.205528 ],\n",
       "       [17.182793 ],\n",
       "       [15.113386 ],\n",
       "       [21.0409   ],\n",
       "       [15.205111 ],\n",
       "       [19.913496 ],\n",
       "       [19.686762 ],\n",
       "       [39.82369  ],\n",
       "       [29.09366  ],\n",
       "       [24.115534 ],\n",
       "       [18.518694 ],\n",
       "       [26.15405  ],\n",
       "       [26.65441  ],\n",
       "       [52.448963 ],\n",
       "       [11.6154175],\n",
       "       [48.053837 ],\n",
       "       [14.479399 ],\n",
       "       [32.053207 ],\n",
       "       [ 7.7860923],\n",
       "       [38.353073 ],\n",
       "       [48.68218  ],\n",
       "       [10.105461 ],\n",
       "       [33.25193  ],\n",
       "       [26.800297 ],\n",
       "       [24.43908  ],\n",
       "       [32.174065 ],\n",
       "       [30.938906 ],\n",
       "       [14.261858 ],\n",
       "       [31.590982 ],\n",
       "       [18.023827 ],\n",
       "       [ 8.154071 ],\n",
       "       [11.1361885],\n",
       "       [20.942564 ],\n",
       "       [12.132139 ],\n",
       "       [10.518406 ],\n",
       "       [16.776697 ],\n",
       "       [19.975101 ],\n",
       "       [29.155369 ],\n",
       "       [27.962234 ],\n",
       "       [28.221395 ],\n",
       "       [46.133366 ],\n",
       "       [32.582108 ],\n",
       "       [15.339424 ],\n",
       "       [33.405697 ],\n",
       "       [11.989157 ],\n",
       "       [19.32547  ],\n",
       "       [47.434994 ],\n",
       "       [22.91265  ],\n",
       "       [36.11434  ],\n",
       "       [38.678333 ],\n",
       "       [10.787874 ],\n",
       "       [14.178841 ],\n",
       "       [25.411905 ],\n",
       "       [10.627743 ],\n",
       "       [23.452818 ],\n",
       "       [14.804071 ],\n",
       "       [27.81526  ],\n",
       "       [24.38512  ],\n",
       "       [15.880846 ],\n",
       "       [35.154255 ],\n",
       "       [68.012344 ],\n",
       "       [25.898094 ],\n",
       "       [ 7.244587 ],\n",
       "       [23.559828 ],\n",
       "       [10.013018 ],\n",
       "       [13.78581  ],\n",
       "       [26.370415 ],\n",
       "       [17.896463 ],\n",
       "       [34.316044 ],\n",
       "       [16.42279  ],\n",
       "       [22.906778 ],\n",
       "       [33.510178 ],\n",
       "       [ 6.3864107],\n",
       "       [48.023293 ],\n",
       "       [45.955357 ],\n",
       "       [16.775827 ],\n",
       "       [16.153204 ],\n",
       "       [17.394445 ],\n",
       "       [30.454245 ],\n",
       "       [24.235868 ]], dtype=float32)"
      ]
     },
     "execution_count": 26,
     "metadata": {},
     "output_type": "execute_result"
    }
   ],
   "source": [
    "y_pred = model.predict(X_test)\n",
    "y_pred"
   ]
  },
  {
   "cell_type": "code",
   "execution_count": 27,
   "metadata": {},
   "outputs": [
    {
     "data": {
      "text/plain": [
       "320.7302794974185"
      ]
     },
     "execution_count": 27,
     "metadata": {},
     "output_type": "execute_result"
    }
   ],
   "source": [
    "MSE1 = mean_squared_error(y_test, y_pred)\n",
    "MSE1"
   ]
  },
  {
   "cell_type": "code",
   "execution_count": 28,
   "metadata": {},
   "outputs": [
    {
     "name": "stdout",
     "output_type": "stream",
     "text": [
      "320.7302794974185 0.0\n"
     ]
    }
   ],
   "source": [
    "mean1 = np.mean(MSE1)\n",
    "sd1 = np.std(MSE1)\n",
    "print(mean1, sd1)"
   ]
  },
  {
   "attachments": {},
   "cell_type": "markdown",
   "metadata": {},
   "source": [
    "- create a list of 50 mean squared errors."
   ]
  },
  {
   "cell_type": "code",
   "execution_count": 29,
   "metadata": {},
   "outputs": [
    {
     "name": "stderr",
     "output_type": "stream",
     "text": [
      "  0%|          | 0/50 [00:00<?, ?it/s]"
     ]
    },
    {
     "name": "stdout",
     "output_type": "stream",
     "text": [
      "10/10 [==============================] - 0s 2ms/step\n"
     ]
    },
    {
     "name": "stderr",
     "output_type": "stream",
     "text": [
      "  2%|▏         | 1/50 [00:01<01:33,  1.91s/it]"
     ]
    },
    {
     "name": "stdout",
     "output_type": "stream",
     "text": [
      "MSE1=145.48773193359375\n",
      "10/10 [==============================] - 0s 1ms/step\n"
     ]
    },
    {
     "name": "stderr",
     "output_type": "stream",
     "text": [
      "  4%|▍         | 2/50 [00:04<01:37,  2.03s/it]"
     ]
    },
    {
     "name": "stdout",
     "output_type": "stream",
     "text": [
      "MSE2=117.67658996582031\n",
      "10/10 [==============================] - 0s 3ms/step\n"
     ]
    },
    {
     "name": "stderr",
     "output_type": "stream",
     "text": [
      "  6%|▌         | 3/50 [00:06<01:38,  2.11s/it]"
     ]
    },
    {
     "name": "stdout",
     "output_type": "stream",
     "text": [
      "MSE3=85.05854797363281\n",
      "10/10 [==============================] - 0s 2ms/step\n"
     ]
    },
    {
     "name": "stderr",
     "output_type": "stream",
     "text": [
      "  8%|▊         | 4/50 [00:08<01:40,  2.18s/it]"
     ]
    },
    {
     "name": "stdout",
     "output_type": "stream",
     "text": [
      "MSE4=78.05467987060547\n",
      "10/10 [==============================] - 0s 1ms/step\n"
     ]
    },
    {
     "name": "stderr",
     "output_type": "stream",
     "text": [
      " 10%|█         | 5/50 [00:10<01:39,  2.21s/it]"
     ]
    },
    {
     "name": "stdout",
     "output_type": "stream",
     "text": [
      "MSE5=62.80967330932617\n",
      "10/10 [==============================] - 0s 1ms/step\n"
     ]
    },
    {
     "name": "stderr",
     "output_type": "stream",
     "text": [
      " 12%|█▏        | 6/50 [00:13<01:37,  2.22s/it]"
     ]
    },
    {
     "name": "stdout",
     "output_type": "stream",
     "text": [
      "MSE6=60.09051513671875\n",
      "10/10 [==============================] - 0s 2ms/step\n"
     ]
    },
    {
     "name": "stderr",
     "output_type": "stream",
     "text": [
      " 14%|█▍        | 7/50 [00:15<01:32,  2.15s/it]"
     ]
    },
    {
     "name": "stdout",
     "output_type": "stream",
     "text": [
      "MSE7=57.08010482788086\n",
      "10/10 [==============================] - 0s 2ms/step\n"
     ]
    },
    {
     "name": "stderr",
     "output_type": "stream",
     "text": [
      " 16%|█▌        | 8/50 [00:17<01:29,  2.13s/it]"
     ]
    },
    {
     "name": "stdout",
     "output_type": "stream",
     "text": [
      "MSE8=38.948204040527344\n",
      "10/10 [==============================] - 0s 1ms/step\n"
     ]
    },
    {
     "name": "stderr",
     "output_type": "stream",
     "text": [
      " 18%|█▊        | 9/50 [00:19<01:26,  2.10s/it]"
     ]
    },
    {
     "name": "stdout",
     "output_type": "stream",
     "text": [
      "MSE9=42.296974182128906\n",
      "10/10 [==============================] - 0s 2ms/step\n"
     ]
    },
    {
     "name": "stderr",
     "output_type": "stream",
     "text": [
      " 20%|██        | 10/50 [00:20<01:20,  2.02s/it]"
     ]
    },
    {
     "name": "stdout",
     "output_type": "stream",
     "text": [
      "MSE10=40.837554931640625\n",
      "10/10 [==============================] - 0s 1ms/step\n"
     ]
    },
    {
     "name": "stderr",
     "output_type": "stream",
     "text": [
      " 22%|██▏       | 11/50 [00:22<01:16,  1.95s/it]"
     ]
    },
    {
     "name": "stdout",
     "output_type": "stream",
     "text": [
      "MSE11=38.01615905761719\n",
      "10/10 [==============================] - 0s 1ms/step\n"
     ]
    },
    {
     "name": "stderr",
     "output_type": "stream",
     "text": [
      " 24%|██▍       | 12/50 [00:24<01:12,  1.91s/it]"
     ]
    },
    {
     "name": "stdout",
     "output_type": "stream",
     "text": [
      "MSE12=35.48190689086914\n",
      "10/10 [==============================] - 0s 1ms/step\n"
     ]
    },
    {
     "name": "stderr",
     "output_type": "stream",
     "text": [
      " 26%|██▌       | 13/50 [00:26<01:09,  1.88s/it]"
     ]
    },
    {
     "name": "stdout",
     "output_type": "stream",
     "text": [
      "MSE13=42.36464309692383\n",
      "10/10 [==============================] - 0s 1ms/step\n"
     ]
    },
    {
     "name": "stderr",
     "output_type": "stream",
     "text": [
      " 28%|██▊       | 14/50 [00:28<01:06,  1.85s/it]"
     ]
    },
    {
     "name": "stdout",
     "output_type": "stream",
     "text": [
      "MSE14=43.82598114013672\n",
      "10/10 [==============================] - 0s 1ms/step\n"
     ]
    },
    {
     "name": "stderr",
     "output_type": "stream",
     "text": [
      " 30%|███       | 15/50 [00:30<01:04,  1.84s/it]"
     ]
    },
    {
     "name": "stdout",
     "output_type": "stream",
     "text": [
      "MSE15=36.330013275146484\n",
      "10/10 [==============================] - 0s 1ms/step\n"
     ]
    },
    {
     "name": "stderr",
     "output_type": "stream",
     "text": [
      " 32%|███▏      | 16/50 [00:31<01:03,  1.86s/it]"
     ]
    },
    {
     "name": "stdout",
     "output_type": "stream",
     "text": [
      "MSE16=32.85900115966797\n",
      "10/10 [==============================] - 0s 1ms/step\n"
     ]
    },
    {
     "name": "stderr",
     "output_type": "stream",
     "text": [
      " 34%|███▍      | 17/50 [00:33<01:00,  1.84s/it]"
     ]
    },
    {
     "name": "stdout",
     "output_type": "stream",
     "text": [
      "MSE17=36.61640167236328\n",
      "10/10 [==============================] - 0s 1ms/step\n"
     ]
    },
    {
     "name": "stderr",
     "output_type": "stream",
     "text": [
      " 36%|███▌      | 18/50 [00:35<00:58,  1.83s/it]"
     ]
    },
    {
     "name": "stdout",
     "output_type": "stream",
     "text": [
      "MSE18=35.18806838989258\n",
      "10/10 [==============================] - 0s 1ms/step\n"
     ]
    },
    {
     "name": "stderr",
     "output_type": "stream",
     "text": [
      " 38%|███▊      | 19/50 [00:37<00:56,  1.82s/it]"
     ]
    },
    {
     "name": "stdout",
     "output_type": "stream",
     "text": [
      "MSE19=33.4517707824707\n",
      "10/10 [==============================] - 0s 1ms/step\n"
     ]
    },
    {
     "name": "stderr",
     "output_type": "stream",
     "text": [
      " 40%|████      | 20/50 [00:39<00:55,  1.85s/it]"
     ]
    },
    {
     "name": "stdout",
     "output_type": "stream",
     "text": [
      "MSE20=36.5644416809082\n",
      "10/10 [==============================] - 0s 1ms/step\n"
     ]
    },
    {
     "name": "stderr",
     "output_type": "stream",
     "text": [
      " 42%|████▏     | 21/50 [00:41<00:58,  2.00s/it]"
     ]
    },
    {
     "name": "stdout",
     "output_type": "stream",
     "text": [
      "MSE21=33.27415466308594\n",
      "10/10 [==============================] - 0s 2ms/step\n"
     ]
    },
    {
     "name": "stderr",
     "output_type": "stream",
     "text": [
      " 44%|████▍     | 22/50 [00:43<00:56,  2.03s/it]"
     ]
    },
    {
     "name": "stdout",
     "output_type": "stream",
     "text": [
      "MSE22=32.29431915283203\n",
      "10/10 [==============================] - 0s 3ms/step\n"
     ]
    },
    {
     "name": "stderr",
     "output_type": "stream",
     "text": [
      " 46%|████▌     | 23/50 [00:46<01:04,  2.38s/it]"
     ]
    },
    {
     "name": "stdout",
     "output_type": "stream",
     "text": [
      "MSE23=30.03152847290039\n",
      "10/10 [==============================] - 0s 2ms/step\n"
     ]
    },
    {
     "name": "stderr",
     "output_type": "stream",
     "text": [
      " 48%|████▊     | 24/50 [00:49<01:00,  2.34s/it]"
     ]
    },
    {
     "name": "stdout",
     "output_type": "stream",
     "text": [
      "MSE24=33.82823944091797\n",
      "10/10 [==============================] - 0s 1ms/step\n"
     ]
    },
    {
     "name": "stderr",
     "output_type": "stream",
     "text": [
      " 50%|█████     | 25/50 [00:51<00:59,  2.36s/it]"
     ]
    },
    {
     "name": "stdout",
     "output_type": "stream",
     "text": [
      "MSE25=34.42283630371094\n",
      "10/10 [==============================] - 0s 2ms/step\n"
     ]
    },
    {
     "name": "stderr",
     "output_type": "stream",
     "text": [
      " 52%|█████▏    | 26/50 [00:53<00:52,  2.19s/it]"
     ]
    },
    {
     "name": "stdout",
     "output_type": "stream",
     "text": [
      "MSE26=37.50691223144531\n",
      "10/10 [==============================] - 0s 1ms/step\n"
     ]
    },
    {
     "name": "stderr",
     "output_type": "stream",
     "text": [
      " 54%|█████▍    | 27/50 [00:55<00:47,  2.07s/it]"
     ]
    },
    {
     "name": "stdout",
     "output_type": "stream",
     "text": [
      "MSE27=31.640880584716797\n",
      "10/10 [==============================] - 0s 2ms/step\n"
     ]
    },
    {
     "name": "stderr",
     "output_type": "stream",
     "text": [
      " 56%|█████▌    | 28/50 [00:57<00:44,  2.03s/it]"
     ]
    },
    {
     "name": "stdout",
     "output_type": "stream",
     "text": [
      "MSE28=32.63532257080078\n",
      "10/10 [==============================] - 0s 1ms/step\n"
     ]
    },
    {
     "name": "stderr",
     "output_type": "stream",
     "text": [
      " 58%|█████▊    | 29/50 [00:58<00:41,  1.98s/it]"
     ]
    },
    {
     "name": "stdout",
     "output_type": "stream",
     "text": [
      "MSE29=37.04386520385742\n",
      "10/10 [==============================] - 0s 1ms/step\n"
     ]
    },
    {
     "name": "stderr",
     "output_type": "stream",
     "text": [
      " 60%|██████    | 30/50 [01:00<00:40,  2.01s/it]"
     ]
    },
    {
     "name": "stdout",
     "output_type": "stream",
     "text": [
      "MSE30=36.27737045288086\n",
      "10/10 [==============================] - 0s 1ms/step\n"
     ]
    },
    {
     "name": "stderr",
     "output_type": "stream",
     "text": [
      " 62%|██████▏   | 31/50 [01:02<00:37,  1.99s/it]"
     ]
    },
    {
     "name": "stdout",
     "output_type": "stream",
     "text": [
      "MSE31=32.58525848388672\n",
      "10/10 [==============================] - 0s 2ms/step\n"
     ]
    },
    {
     "name": "stderr",
     "output_type": "stream",
     "text": [
      " 64%|██████▍   | 32/50 [01:05<00:37,  2.08s/it]"
     ]
    },
    {
     "name": "stdout",
     "output_type": "stream",
     "text": [
      "MSE32=32.15122985839844\n",
      "10/10 [==============================] - 0s 1ms/step\n"
     ]
    },
    {
     "name": "stderr",
     "output_type": "stream",
     "text": [
      " 66%|██████▌   | 33/50 [01:07<00:35,  2.11s/it]"
     ]
    },
    {
     "name": "stdout",
     "output_type": "stream",
     "text": [
      "MSE33=34.07993698120117\n",
      "10/10 [==============================] - 0s 2ms/step\n"
     ]
    },
    {
     "name": "stderr",
     "output_type": "stream",
     "text": [
      " 68%|██████▊   | 34/50 [01:09<00:33,  2.12s/it]"
     ]
    },
    {
     "name": "stdout",
     "output_type": "stream",
     "text": [
      "MSE34=33.720706939697266\n",
      "10/10 [==============================] - 0s 1ms/step\n"
     ]
    },
    {
     "name": "stderr",
     "output_type": "stream",
     "text": [
      " 70%|███████   | 35/50 [01:11<00:32,  2.15s/it]"
     ]
    },
    {
     "name": "stdout",
     "output_type": "stream",
     "text": [
      "MSE35=34.626708984375\n",
      "10/10 [==============================] - 0s 2ms/step\n"
     ]
    },
    {
     "name": "stderr",
     "output_type": "stream",
     "text": [
      " 72%|███████▏  | 36/50 [01:13<00:29,  2.09s/it]"
     ]
    },
    {
     "name": "stdout",
     "output_type": "stream",
     "text": [
      "MSE36=40.16836929321289\n",
      "10/10 [==============================] - 0s 1ms/step\n"
     ]
    },
    {
     "name": "stderr",
     "output_type": "stream",
     "text": [
      " 74%|███████▍  | 37/50 [01:15<00:27,  2.12s/it]"
     ]
    },
    {
     "name": "stdout",
     "output_type": "stream",
     "text": [
      "MSE37=29.522878646850586\n",
      "10/10 [==============================] - 0s 1ms/step\n"
     ]
    },
    {
     "name": "stderr",
     "output_type": "stream",
     "text": [
      " 76%|███████▌  | 38/50 [01:17<00:24,  2.01s/it]"
     ]
    },
    {
     "name": "stdout",
     "output_type": "stream",
     "text": [
      "MSE38=36.286651611328125\n",
      "10/10 [==============================] - 0s 2ms/step\n"
     ]
    },
    {
     "name": "stderr",
     "output_type": "stream",
     "text": [
      " 78%|███████▊  | 39/50 [01:19<00:21,  1.96s/it]"
     ]
    },
    {
     "name": "stdout",
     "output_type": "stream",
     "text": [
      "MSE39=33.23832702636719\n",
      "10/10 [==============================] - 0s 1ms/step\n"
     ]
    },
    {
     "name": "stderr",
     "output_type": "stream",
     "text": [
      " 80%|████████  | 40/50 [01:21<00:20,  2.03s/it]"
     ]
    },
    {
     "name": "stdout",
     "output_type": "stream",
     "text": [
      "MSE40=30.65858268737793\n",
      "10/10 [==============================] - 0s 1ms/step\n"
     ]
    },
    {
     "name": "stderr",
     "output_type": "stream",
     "text": [
      " 82%|████████▏ | 41/50 [01:23<00:17,  1.96s/it]"
     ]
    },
    {
     "name": "stdout",
     "output_type": "stream",
     "text": [
      "MSE41=34.138553619384766\n",
      "10/10 [==============================] - 0s 1ms/step\n"
     ]
    },
    {
     "name": "stderr",
     "output_type": "stream",
     "text": [
      " 84%|████████▍ | 42/50 [01:25<00:15,  1.94s/it]"
     ]
    },
    {
     "name": "stdout",
     "output_type": "stream",
     "text": [
      "MSE42=28.920257568359375\n",
      "10/10 [==============================] - 0s 1ms/step\n"
     ]
    },
    {
     "name": "stderr",
     "output_type": "stream",
     "text": [
      " 86%|████████▌ | 43/50 [01:27<00:13,  1.89s/it]"
     ]
    },
    {
     "name": "stdout",
     "output_type": "stream",
     "text": [
      "MSE43=34.24323654174805\n",
      "10/10 [==============================] - 0s 1ms/step\n"
     ]
    },
    {
     "name": "stderr",
     "output_type": "stream",
     "text": [
      " 88%|████████▊ | 44/50 [01:28<00:11,  1.86s/it]"
     ]
    },
    {
     "name": "stdout",
     "output_type": "stream",
     "text": [
      "MSE44=34.863468170166016\n",
      "10/10 [==============================] - 0s 1ms/step\n"
     ]
    },
    {
     "name": "stderr",
     "output_type": "stream",
     "text": [
      " 90%|█████████ | 45/50 [01:30<00:09,  1.84s/it]"
     ]
    },
    {
     "name": "stdout",
     "output_type": "stream",
     "text": [
      "MSE45=37.42079162597656\n",
      "10/10 [==============================] - 0s 1ms/step\n"
     ]
    },
    {
     "name": "stderr",
     "output_type": "stream",
     "text": [
      " 92%|█████████▏| 46/50 [01:32<00:07,  1.82s/it]"
     ]
    },
    {
     "name": "stdout",
     "output_type": "stream",
     "text": [
      "MSE46=33.11940002441406\n",
      "10/10 [==============================] - 0s 4ms/step\n"
     ]
    },
    {
     "name": "stderr",
     "output_type": "stream",
     "text": [
      " 94%|█████████▍| 47/50 [01:34<00:05,  1.82s/it]"
     ]
    },
    {
     "name": "stdout",
     "output_type": "stream",
     "text": [
      "MSE47=31.677845001220703\n",
      "10/10 [==============================] - 0s 1ms/step\n"
     ]
    },
    {
     "name": "stderr",
     "output_type": "stream",
     "text": [
      " 96%|█████████▌| 48/50 [01:36<00:03,  1.83s/it]"
     ]
    },
    {
     "name": "stdout",
     "output_type": "stream",
     "text": [
      "MSE48=33.78548812866211\n",
      "10/10 [==============================] - 0s 1ms/step\n"
     ]
    },
    {
     "name": "stderr",
     "output_type": "stream",
     "text": [
      " 98%|█████████▊| 49/50 [01:38<00:01,  1.83s/it]"
     ]
    },
    {
     "name": "stdout",
     "output_type": "stream",
     "text": [
      "MSE49=33.50639724731445\n",
      "10/10 [==============================] - 0s 1ms/step\n"
     ]
    },
    {
     "name": "stderr",
     "output_type": "stream",
     "text": [
      "100%|██████████| 50/50 [01:39<00:00,  2.00s/it]"
     ]
    },
    {
     "name": "stdout",
     "output_type": "stream",
     "text": [
      "MSE50=36.516666412353516\n",
      "Mean: 42.26450219574748\n",
      "Standard Deviation: 21.512701293692267\n"
     ]
    },
    {
     "name": "stderr",
     "output_type": "stream",
     "text": [
      "\n"
     ]
    }
   ],
   "source": [
    "list1_MSE = []\n",
    "for i in tqdm(range (0, 50)):\n",
    "    X_train, X_test, y_train, y_test = train_test_split(X_norm, y, test_size=0.30, random_state=i)\n",
    "    model.fit(X_train, y_train, epochs=50, verbose=0)\n",
    "    value_MSE1 = model.evaluate(X_test, y_test, verbose=0)\n",
    "    y_pred = model.predict(X_test)\n",
    "    MSE1 = mean_squared_error(y_test, y_pred)\n",
    "    list1_MSE.append(MSE1)\n",
    "    print(\"MSE\" + str(i+1) + \"=\" + str(value_MSE1))\n",
    "\n",
    "mean1 = np.mean(list1_MSE)\n",
    "sd1 = np.std(list1_MSE)\n",
    "\n",
    "print(\"Mean: \"+str(mean1))\n",
    "print(\"Standard Deviation: \"+str(sd1))"
   ]
  },
  {
   "attachments": {},
   "cell_type": "markdown",
   "metadata": {},
   "source": [
    "## Conclusion\n",
    "- The mean squared errors of the list of 50 MSEs that were generated from 50 repetitions of running a neural network model based on regression with Normalization is 42.2 which is less than base lile 51. Normalising the predictors improves the mean squared errors by decreasing the total value."
   ]
  }
 ],
 "metadata": {
  "kernelspec": {
   "display_name": "base",
   "language": "python",
   "name": "python3"
  },
  "language_info": {
   "codemirror_mode": {
    "name": "ipython",
    "version": 3
   },
   "file_extension": ".py",
   "mimetype": "text/x-python",
   "name": "python",
   "nbconvert_exporter": "python",
   "pygments_lexer": "ipython3",
   "version": "3.9.12"
  },
  "orig_nbformat": 4
 },
 "nbformat": 4,
 "nbformat_minor": 2
}
