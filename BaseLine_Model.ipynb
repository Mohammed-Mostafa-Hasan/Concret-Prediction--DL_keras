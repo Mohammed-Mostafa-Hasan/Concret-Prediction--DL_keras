{
 "cells": [
  {
   "cell_type": "markdown",
   "metadata": {},
   "source": [
    "#### A. Build a baseline model \n",
    "\n",
    "- Use the Keras library to build a neural network with the following:\n",
    "\n",
    "    - One hidden layer of 10 nodes, and a ReLU activation function\n",
    "    - Use the adam optimizer and the mean squared error as the loss function.\n",
    "\n",
    "- 1. Randomly split the data into a training and test sets by holding 30% of the data for testing. You can use the train_test_splithelper function from Scikit-learn.\n",
    "\n",
    "- 2. Train the model on the training data using 50 epochs.\n",
    "\n",
    "- 3. Evaluate the model on the test data and compute the mean squared error between the predicted concrete strength and the actual concrete strength. You can use the mean_squared_error function from Scikit-learn.\n",
    "\n",
    "- 4. Repeat steps 1 - 3, 50 times, i.e., create a list of 50 mean squared errors.\n",
    "\n",
    "- 5. Report the mean and the standard deviation of the mean squared errors.\n",
    "\n",
    "- 6. Submit your Jupyter Notebook with your code and comments."
   ]
  },
  {
   "cell_type": "code",
   "execution_count": 2,
   "metadata": {},
   "outputs": [],
   "source": [
    "import pandas as pd\n",
    "import numpy as np\n",
    "import keras\n",
    "from keras.models import Sequential\n",
    "from keras.layers import Dense\n",
    "from sklearn.model_selection import train_test_split\n",
    "from sklearn.metrics import mean_squared_error\n",
    "from tqdm import tqdm"
   ]
  },
  {
   "cell_type": "code",
   "execution_count": 4,
   "metadata": {},
   "outputs": [
    {
     "data": {
      "text/html": [
       "<div>\n",
       "<style scoped>\n",
       "    .dataframe tbody tr th:only-of-type {\n",
       "        vertical-align: middle;\n",
       "    }\n",
       "\n",
       "    .dataframe tbody tr th {\n",
       "        vertical-align: top;\n",
       "    }\n",
       "\n",
       "    .dataframe thead th {\n",
       "        text-align: right;\n",
       "    }\n",
       "</style>\n",
       "<table border=\"1\" class=\"dataframe\">\n",
       "  <thead>\n",
       "    <tr style=\"text-align: right;\">\n",
       "      <th></th>\n",
       "      <th>Cement</th>\n",
       "      <th>Blast Furnace Slag</th>\n",
       "      <th>Fly Ash</th>\n",
       "      <th>Water</th>\n",
       "      <th>Superplasticizer</th>\n",
       "      <th>Coarse Aggregate</th>\n",
       "      <th>Fine Aggregate</th>\n",
       "      <th>Age</th>\n",
       "      <th>Strength</th>\n",
       "    </tr>\n",
       "  </thead>\n",
       "  <tbody>\n",
       "    <tr>\n",
       "      <th>0</th>\n",
       "      <td>540.0</td>\n",
       "      <td>0.0</td>\n",
       "      <td>0.0</td>\n",
       "      <td>162.0</td>\n",
       "      <td>2.5</td>\n",
       "      <td>1040.0</td>\n",
       "      <td>676.0</td>\n",
       "      <td>28</td>\n",
       "      <td>79.99</td>\n",
       "    </tr>\n",
       "    <tr>\n",
       "      <th>1</th>\n",
       "      <td>540.0</td>\n",
       "      <td>0.0</td>\n",
       "      <td>0.0</td>\n",
       "      <td>162.0</td>\n",
       "      <td>2.5</td>\n",
       "      <td>1055.0</td>\n",
       "      <td>676.0</td>\n",
       "      <td>28</td>\n",
       "      <td>61.89</td>\n",
       "    </tr>\n",
       "    <tr>\n",
       "      <th>2</th>\n",
       "      <td>332.5</td>\n",
       "      <td>142.5</td>\n",
       "      <td>0.0</td>\n",
       "      <td>228.0</td>\n",
       "      <td>0.0</td>\n",
       "      <td>932.0</td>\n",
       "      <td>594.0</td>\n",
       "      <td>270</td>\n",
       "      <td>40.27</td>\n",
       "    </tr>\n",
       "    <tr>\n",
       "      <th>3</th>\n",
       "      <td>332.5</td>\n",
       "      <td>142.5</td>\n",
       "      <td>0.0</td>\n",
       "      <td>228.0</td>\n",
       "      <td>0.0</td>\n",
       "      <td>932.0</td>\n",
       "      <td>594.0</td>\n",
       "      <td>365</td>\n",
       "      <td>41.05</td>\n",
       "    </tr>\n",
       "    <tr>\n",
       "      <th>4</th>\n",
       "      <td>198.6</td>\n",
       "      <td>132.4</td>\n",
       "      <td>0.0</td>\n",
       "      <td>192.0</td>\n",
       "      <td>0.0</td>\n",
       "      <td>978.4</td>\n",
       "      <td>825.5</td>\n",
       "      <td>360</td>\n",
       "      <td>44.30</td>\n",
       "    </tr>\n",
       "  </tbody>\n",
       "</table>\n",
       "</div>"
      ],
      "text/plain": [
       "   Cement  Blast Furnace Slag  Fly Ash  Water  Superplasticizer  \\\n",
       "0   540.0                 0.0      0.0  162.0               2.5   \n",
       "1   540.0                 0.0      0.0  162.0               2.5   \n",
       "2   332.5               142.5      0.0  228.0               0.0   \n",
       "3   332.5               142.5      0.0  228.0               0.0   \n",
       "4   198.6               132.4      0.0  192.0               0.0   \n",
       "\n",
       "   Coarse Aggregate  Fine Aggregate  Age  Strength  \n",
       "0            1040.0           676.0   28     79.99  \n",
       "1            1055.0           676.0   28     61.89  \n",
       "2             932.0           594.0  270     40.27  \n",
       "3             932.0           594.0  365     41.05  \n",
       "4             978.4           825.5  360     44.30  "
      ]
     },
     "execution_count": 4,
     "metadata": {},
     "output_type": "execute_result"
    }
   ],
   "source": [
    "concrete_data = pd.read_csv('https://cocl.us/concrete_data')\n",
    "concrete_data.head()"
   ]
  },
  {
   "cell_type": "code",
   "execution_count": 5,
   "metadata": {},
   "outputs": [
    {
     "data": {
      "text/html": [
       "<div>\n",
       "<style scoped>\n",
       "    .dataframe tbody tr th:only-of-type {\n",
       "        vertical-align: middle;\n",
       "    }\n",
       "\n",
       "    .dataframe tbody tr th {\n",
       "        vertical-align: top;\n",
       "    }\n",
       "\n",
       "    .dataframe thead th {\n",
       "        text-align: right;\n",
       "    }\n",
       "</style>\n",
       "<table border=\"1\" class=\"dataframe\">\n",
       "  <thead>\n",
       "    <tr style=\"text-align: right;\">\n",
       "      <th></th>\n",
       "      <th>Cement</th>\n",
       "      <th>Blast Furnace Slag</th>\n",
       "      <th>Fly Ash</th>\n",
       "      <th>Water</th>\n",
       "      <th>Superplasticizer</th>\n",
       "      <th>Coarse Aggregate</th>\n",
       "      <th>Fine Aggregate</th>\n",
       "      <th>Age</th>\n",
       "      <th>Strength</th>\n",
       "    </tr>\n",
       "  </thead>\n",
       "  <tbody>\n",
       "    <tr>\n",
       "      <th>count</th>\n",
       "      <td>1030.000000</td>\n",
       "      <td>1030.000000</td>\n",
       "      <td>1030.000000</td>\n",
       "      <td>1030.000000</td>\n",
       "      <td>1030.000000</td>\n",
       "      <td>1030.000000</td>\n",
       "      <td>1030.000000</td>\n",
       "      <td>1030.000000</td>\n",
       "      <td>1030.000000</td>\n",
       "    </tr>\n",
       "    <tr>\n",
       "      <th>mean</th>\n",
       "      <td>281.167864</td>\n",
       "      <td>73.895825</td>\n",
       "      <td>54.188350</td>\n",
       "      <td>181.567282</td>\n",
       "      <td>6.204660</td>\n",
       "      <td>972.918932</td>\n",
       "      <td>773.580485</td>\n",
       "      <td>45.662136</td>\n",
       "      <td>35.817961</td>\n",
       "    </tr>\n",
       "    <tr>\n",
       "      <th>std</th>\n",
       "      <td>104.506364</td>\n",
       "      <td>86.279342</td>\n",
       "      <td>63.997004</td>\n",
       "      <td>21.354219</td>\n",
       "      <td>5.973841</td>\n",
       "      <td>77.753954</td>\n",
       "      <td>80.175980</td>\n",
       "      <td>63.169912</td>\n",
       "      <td>16.705742</td>\n",
       "    </tr>\n",
       "    <tr>\n",
       "      <th>min</th>\n",
       "      <td>102.000000</td>\n",
       "      <td>0.000000</td>\n",
       "      <td>0.000000</td>\n",
       "      <td>121.800000</td>\n",
       "      <td>0.000000</td>\n",
       "      <td>801.000000</td>\n",
       "      <td>594.000000</td>\n",
       "      <td>1.000000</td>\n",
       "      <td>2.330000</td>\n",
       "    </tr>\n",
       "    <tr>\n",
       "      <th>25%</th>\n",
       "      <td>192.375000</td>\n",
       "      <td>0.000000</td>\n",
       "      <td>0.000000</td>\n",
       "      <td>164.900000</td>\n",
       "      <td>0.000000</td>\n",
       "      <td>932.000000</td>\n",
       "      <td>730.950000</td>\n",
       "      <td>7.000000</td>\n",
       "      <td>23.710000</td>\n",
       "    </tr>\n",
       "    <tr>\n",
       "      <th>50%</th>\n",
       "      <td>272.900000</td>\n",
       "      <td>22.000000</td>\n",
       "      <td>0.000000</td>\n",
       "      <td>185.000000</td>\n",
       "      <td>6.400000</td>\n",
       "      <td>968.000000</td>\n",
       "      <td>779.500000</td>\n",
       "      <td>28.000000</td>\n",
       "      <td>34.445000</td>\n",
       "    </tr>\n",
       "    <tr>\n",
       "      <th>75%</th>\n",
       "      <td>350.000000</td>\n",
       "      <td>142.950000</td>\n",
       "      <td>118.300000</td>\n",
       "      <td>192.000000</td>\n",
       "      <td>10.200000</td>\n",
       "      <td>1029.400000</td>\n",
       "      <td>824.000000</td>\n",
       "      <td>56.000000</td>\n",
       "      <td>46.135000</td>\n",
       "    </tr>\n",
       "    <tr>\n",
       "      <th>max</th>\n",
       "      <td>540.000000</td>\n",
       "      <td>359.400000</td>\n",
       "      <td>200.100000</td>\n",
       "      <td>247.000000</td>\n",
       "      <td>32.200000</td>\n",
       "      <td>1145.000000</td>\n",
       "      <td>992.600000</td>\n",
       "      <td>365.000000</td>\n",
       "      <td>82.600000</td>\n",
       "    </tr>\n",
       "  </tbody>\n",
       "</table>\n",
       "</div>"
      ],
      "text/plain": [
       "            Cement  Blast Furnace Slag      Fly Ash        Water  \\\n",
       "count  1030.000000         1030.000000  1030.000000  1030.000000   \n",
       "mean    281.167864           73.895825    54.188350   181.567282   \n",
       "std     104.506364           86.279342    63.997004    21.354219   \n",
       "min     102.000000            0.000000     0.000000   121.800000   \n",
       "25%     192.375000            0.000000     0.000000   164.900000   \n",
       "50%     272.900000           22.000000     0.000000   185.000000   \n",
       "75%     350.000000          142.950000   118.300000   192.000000   \n",
       "max     540.000000          359.400000   200.100000   247.000000   \n",
       "\n",
       "       Superplasticizer  Coarse Aggregate  Fine Aggregate          Age  \\\n",
       "count       1030.000000       1030.000000     1030.000000  1030.000000   \n",
       "mean           6.204660        972.918932      773.580485    45.662136   \n",
       "std            5.973841         77.753954       80.175980    63.169912   \n",
       "min            0.000000        801.000000      594.000000     1.000000   \n",
       "25%            0.000000        932.000000      730.950000     7.000000   \n",
       "50%            6.400000        968.000000      779.500000    28.000000   \n",
       "75%           10.200000       1029.400000      824.000000    56.000000   \n",
       "max           32.200000       1145.000000      992.600000   365.000000   \n",
       "\n",
       "          Strength  \n",
       "count  1030.000000  \n",
       "mean     35.817961  \n",
       "std      16.705742  \n",
       "min       2.330000  \n",
       "25%      23.710000  \n",
       "50%      34.445000  \n",
       "75%      46.135000  \n",
       "max      82.600000  "
      ]
     },
     "execution_count": 5,
     "metadata": {},
     "output_type": "execute_result"
    }
   ],
   "source": [
    "# find some quick useful statistics\n",
    "concrete_data.describe()"
   ]
  },
  {
   "cell_type": "code",
   "execution_count": 6,
   "metadata": {},
   "outputs": [
    {
     "data": {
      "text/plain": [
       "Cement                0\n",
       "Blast Furnace Slag    0\n",
       "Fly Ash               0\n",
       "Water                 0\n",
       "Superplasticizer      0\n",
       "Coarse Aggregate      0\n",
       "Fine Aggregate        0\n",
       "Age                   0\n",
       "Strength              0\n",
       "dtype: int64"
      ]
     },
     "execution_count": 6,
     "metadata": {},
     "output_type": "execute_result"
    }
   ],
   "source": [
    "concrete_data.isnull().sum()"
   ]
  },
  {
   "cell_type": "code",
   "execution_count": 7,
   "metadata": {},
   "outputs": [],
   "source": [
    "#Split the data into predictor and target variables for Regression model\n",
    "concrete_data_columns = concrete_data.columns\n",
    "\n",
    "predictors = concrete_data[concrete_data_columns[concrete_data_columns != 'Strength']] # all columns except Strength\n",
    "target = concrete_data['Strength'] # Strength column\n",
    "X = predictors\n",
    "y = target"
   ]
  },
  {
   "cell_type": "code",
   "execution_count": 8,
   "metadata": {},
   "outputs": [
    {
     "data": {
      "text/plain": [
       "8"
      ]
     },
     "execution_count": 8,
     "metadata": {},
     "output_type": "execute_result"
    }
   ],
   "source": [
    "n_cols = X.shape[1]\n",
    "n_cols"
   ]
  },
  {
   "cell_type": "code",
   "execution_count": 9,
   "metadata": {},
   "outputs": [
    {
     "data": {
      "text/html": [
       "<div>\n",
       "<style scoped>\n",
       "    .dataframe tbody tr th:only-of-type {\n",
       "        vertical-align: middle;\n",
       "    }\n",
       "\n",
       "    .dataframe tbody tr th {\n",
       "        vertical-align: top;\n",
       "    }\n",
       "\n",
       "    .dataframe thead th {\n",
       "        text-align: right;\n",
       "    }\n",
       "</style>\n",
       "<table border=\"1\" class=\"dataframe\">\n",
       "  <thead>\n",
       "    <tr style=\"text-align: right;\">\n",
       "      <th></th>\n",
       "      <th>Cement</th>\n",
       "      <th>Blast Furnace Slag</th>\n",
       "      <th>Fly Ash</th>\n",
       "      <th>Water</th>\n",
       "      <th>Superplasticizer</th>\n",
       "      <th>Coarse Aggregate</th>\n",
       "      <th>Fine Aggregate</th>\n",
       "      <th>Age</th>\n",
       "    </tr>\n",
       "  </thead>\n",
       "  <tbody>\n",
       "    <tr>\n",
       "      <th>0</th>\n",
       "      <td>540.0</td>\n",
       "      <td>0.0</td>\n",
       "      <td>0.0</td>\n",
       "      <td>162.0</td>\n",
       "      <td>2.5</td>\n",
       "      <td>1040.0</td>\n",
       "      <td>676.0</td>\n",
       "      <td>28</td>\n",
       "    </tr>\n",
       "    <tr>\n",
       "      <th>1</th>\n",
       "      <td>540.0</td>\n",
       "      <td>0.0</td>\n",
       "      <td>0.0</td>\n",
       "      <td>162.0</td>\n",
       "      <td>2.5</td>\n",
       "      <td>1055.0</td>\n",
       "      <td>676.0</td>\n",
       "      <td>28</td>\n",
       "    </tr>\n",
       "    <tr>\n",
       "      <th>2</th>\n",
       "      <td>332.5</td>\n",
       "      <td>142.5</td>\n",
       "      <td>0.0</td>\n",
       "      <td>228.0</td>\n",
       "      <td>0.0</td>\n",
       "      <td>932.0</td>\n",
       "      <td>594.0</td>\n",
       "      <td>270</td>\n",
       "    </tr>\n",
       "    <tr>\n",
       "      <th>3</th>\n",
       "      <td>332.5</td>\n",
       "      <td>142.5</td>\n",
       "      <td>0.0</td>\n",
       "      <td>228.0</td>\n",
       "      <td>0.0</td>\n",
       "      <td>932.0</td>\n",
       "      <td>594.0</td>\n",
       "      <td>365</td>\n",
       "    </tr>\n",
       "    <tr>\n",
       "      <th>4</th>\n",
       "      <td>198.6</td>\n",
       "      <td>132.4</td>\n",
       "      <td>0.0</td>\n",
       "      <td>192.0</td>\n",
       "      <td>0.0</td>\n",
       "      <td>978.4</td>\n",
       "      <td>825.5</td>\n",
       "      <td>360</td>\n",
       "    </tr>\n",
       "  </tbody>\n",
       "</table>\n",
       "</div>"
      ],
      "text/plain": [
       "   Cement  Blast Furnace Slag  Fly Ash  Water  Superplasticizer  \\\n",
       "0   540.0                 0.0      0.0  162.0               2.5   \n",
       "1   540.0                 0.0      0.0  162.0               2.5   \n",
       "2   332.5               142.5      0.0  228.0               0.0   \n",
       "3   332.5               142.5      0.0  228.0               0.0   \n",
       "4   198.6               132.4      0.0  192.0               0.0   \n",
       "\n",
       "   Coarse Aggregate  Fine Aggregate  Age  \n",
       "0            1040.0           676.0   28  \n",
       "1            1055.0           676.0   28  \n",
       "2             932.0           594.0  270  \n",
       "3             932.0           594.0  365  \n",
       "4             978.4           825.5  360  "
      ]
     },
     "execution_count": 9,
     "metadata": {},
     "output_type": "execute_result"
    }
   ],
   "source": [
    "X.head()"
   ]
  },
  {
   "cell_type": "code",
   "execution_count": 10,
   "metadata": {},
   "outputs": [
    {
     "data": {
      "text/plain": [
       "0    79.99\n",
       "1    61.89\n",
       "2    40.27\n",
       "3    41.05\n",
       "4    44.30\n",
       "Name: Strength, dtype: float64"
      ]
     },
     "execution_count": 10,
     "metadata": {},
     "output_type": "execute_result"
    }
   ],
   "source": [
    "y.head()"
   ]
  },
  {
   "attachments": {},
   "cell_type": "markdown",
   "metadata": {},
   "source": [
    "- Split the data into training and test sets with scikitlearn"
   ]
  },
  {
   "cell_type": "code",
   "execution_count": 11,
   "metadata": {},
   "outputs": [],
   "source": [
    "X_train, X_test, y_train, y_test = train_test_split(X, y, test_size=0.30, random_state=42)"
   ]
  },
  {
   "attachments": {},
   "cell_type": "markdown",
   "metadata": {},
   "source": [
    "- Build the neural network, train using 50 epochs"
   ]
  },
  {
   "cell_type": "code",
   "execution_count": 12,
   "metadata": {},
   "outputs": [],
   "source": [
    "# define regression model\n",
    "def regression_model():\n",
    "    # Construct the Network \n",
    "    model = Sequential()\n",
    "    model.add(Dense(10, activation='relu', input_shape=(n_cols,)))\n",
    "    model.add(Dense(1))\n",
    "    \n",
    "    # compile model\n",
    "    model.compile(optimizer='adam', loss='mean_squared_error')\n",
    "    return model"
   ]
  },
  {
   "cell_type": "code",
   "execution_count": 13,
   "metadata": {},
   "outputs": [],
   "source": [
    "model = regression_model()"
   ]
  },
  {
   "cell_type": "code",
   "execution_count": 14,
   "metadata": {},
   "outputs": [
    {
     "name": "stdout",
     "output_type": "stream",
     "text": [
      "Epoch 1/50\n",
      "23/23 [==============================] - 1s 3ms/step - loss: 323162.8438\n",
      "Epoch 2/50\n",
      "23/23 [==============================] - 0s 3ms/step - loss: 165610.0625\n",
      "Epoch 3/50\n",
      "23/23 [==============================] - 0s 3ms/step - loss: 75977.6875\n",
      "Epoch 4/50\n",
      "23/23 [==============================] - 0s 3ms/step - loss: 31505.6387\n",
      "Epoch 5/50\n",
      "23/23 [==============================] - 0s 3ms/step - loss: 12829.4092\n",
      "Epoch 6/50\n",
      "23/23 [==============================] - 0s 2ms/step - loss: 6428.3696\n",
      "Epoch 7/50\n",
      "23/23 [==============================] - 0s 3ms/step - loss: 4693.0557\n",
      "Epoch 8/50\n",
      "23/23 [==============================] - 0s 2ms/step - loss: 4234.1021\n",
      "Epoch 9/50\n",
      "23/23 [==============================] - 0s 2ms/step - loss: 4055.5850\n",
      "Epoch 10/50\n",
      "23/23 [==============================] - 0s 5ms/step - loss: 3913.1401\n",
      "Epoch 11/50\n",
      "23/23 [==============================] - 0s 3ms/step - loss: 3776.4519\n",
      "Epoch 12/50\n",
      "23/23 [==============================] - 0s 3ms/step - loss: 3630.5337\n",
      "Epoch 13/50\n",
      "23/23 [==============================] - 0s 3ms/step - loss: 3489.5361\n",
      "Epoch 14/50\n",
      "23/23 [==============================] - 0s 3ms/step - loss: 3352.9656\n",
      "Epoch 15/50\n",
      "23/23 [==============================] - 0s 3ms/step - loss: 3210.2812\n",
      "Epoch 16/50\n",
      "23/23 [==============================] - 0s 3ms/step - loss: 3076.9763\n",
      "Epoch 17/50\n",
      "23/23 [==============================] - 0s 4ms/step - loss: 2941.7185\n",
      "Epoch 18/50\n",
      "23/23 [==============================] - 0s 3ms/step - loss: 2811.9001\n",
      "Epoch 19/50\n",
      "23/23 [==============================] - 0s 3ms/step - loss: 2679.1611\n",
      "Epoch 20/50\n",
      "23/23 [==============================] - 0s 3ms/step - loss: 2554.2915\n",
      "Epoch 21/50\n",
      "23/23 [==============================] - 0s 3ms/step - loss: 2431.3533\n",
      "Epoch 22/50\n",
      "23/23 [==============================] - 0s 3ms/step - loss: 2313.2834\n",
      "Epoch 23/50\n",
      "23/23 [==============================] - 0s 3ms/step - loss: 2199.4194\n",
      "Epoch 24/50\n",
      "23/23 [==============================] - 0s 3ms/step - loss: 2091.1306\n",
      "Epoch 25/50\n",
      "23/23 [==============================] - 0s 3ms/step - loss: 1984.5016\n",
      "Epoch 26/50\n",
      "23/23 [==============================] - 0s 2ms/step - loss: 1883.1614\n",
      "Epoch 27/50\n",
      "23/23 [==============================] - 0s 3ms/step - loss: 1786.3684\n",
      "Epoch 28/50\n",
      "23/23 [==============================] - 0s 3ms/step - loss: 1700.1484\n",
      "Epoch 29/50\n",
      "23/23 [==============================] - 0s 3ms/step - loss: 1607.0590\n",
      "Epoch 30/50\n",
      "23/23 [==============================] - 0s 3ms/step - loss: 1528.1749\n",
      "Epoch 31/50\n",
      "23/23 [==============================] - 0s 3ms/step - loss: 1445.3452\n",
      "Epoch 32/50\n",
      "23/23 [==============================] - 0s 3ms/step - loss: 1368.9266\n",
      "Epoch 33/50\n",
      "23/23 [==============================] - 0s 5ms/step - loss: 1299.1635\n",
      "Epoch 34/50\n",
      "23/23 [==============================] - 0s 4ms/step - loss: 1229.8893\n",
      "Epoch 35/50\n",
      "23/23 [==============================] - 0s 3ms/step - loss: 1166.6218\n",
      "Epoch 36/50\n",
      "23/23 [==============================] - 0s 2ms/step - loss: 1105.6561\n",
      "Epoch 37/50\n",
      "23/23 [==============================] - 0s 2ms/step - loss: 1048.1816\n",
      "Epoch 38/50\n",
      "23/23 [==============================] - 0s 2ms/step - loss: 994.6958\n",
      "Epoch 39/50\n",
      "23/23 [==============================] - 0s 2ms/step - loss: 944.2125\n",
      "Epoch 40/50\n",
      "23/23 [==============================] - 0s 2ms/step - loss: 896.4866\n",
      "Epoch 41/50\n",
      "23/23 [==============================] - 0s 2ms/step - loss: 852.7599\n",
      "Epoch 42/50\n",
      "23/23 [==============================] - 0s 2ms/step - loss: 810.7667\n",
      "Epoch 43/50\n",
      "23/23 [==============================] - 0s 2ms/step - loss: 774.9376\n",
      "Epoch 44/50\n",
      "23/23 [==============================] - 0s 2ms/step - loss: 736.2921\n",
      "Epoch 45/50\n",
      "23/23 [==============================] - 0s 2ms/step - loss: 703.9195\n",
      "Epoch 46/50\n",
      "23/23 [==============================] - 0s 2ms/step - loss: 672.7854\n",
      "Epoch 47/50\n",
      "23/23 [==============================] - 0s 2ms/step - loss: 644.2175\n",
      "Epoch 48/50\n",
      "23/23 [==============================] - 0s 2ms/step - loss: 617.6885\n",
      "Epoch 49/50\n",
      "23/23 [==============================] - 0s 2ms/step - loss: 594.4850\n",
      "Epoch 50/50\n",
      "23/23 [==============================] - 0s 2ms/step - loss: 570.3463\n"
     ]
    },
    {
     "data": {
      "text/plain": [
       "<keras.callbacks.History at 0x225d7d21640>"
      ]
     },
     "execution_count": 14,
     "metadata": {},
     "output_type": "execute_result"
    }
   ],
   "source": [
    "model.fit(X_train, y_train, epochs=50, verbose=1)"
   ]
  },
  {
   "attachments": {},
   "cell_type": "markdown",
   "metadata": {},
   "source": [
    "- Evaluate the model on test data"
   ]
  },
  {
   "cell_type": "code",
   "execution_count": 15,
   "metadata": {},
   "outputs": [
    {
     "name": "stdout",
     "output_type": "stream",
     "text": [
      "10/10 [==============================] - 0s 1ms/step - loss: 551.9076\n"
     ]
    },
    {
     "data": {
      "text/plain": [
       "551.9075927734375"
      ]
     },
     "execution_count": 15,
     "metadata": {},
     "output_type": "execute_result"
    }
   ],
   "source": [
    "model.evaluate(X_test, y_test)"
   ]
  },
  {
   "cell_type": "code",
   "execution_count": 16,
   "metadata": {},
   "outputs": [
    {
     "name": "stdout",
     "output_type": "stream",
     "text": [
      "10/10 [==============================] - 0s 1ms/step\n"
     ]
    },
    {
     "data": {
      "text/plain": [
       "array([[ 28.491777  ],\n",
       "       [ 56.95855   ],\n",
       "       [ 64.976776  ],\n",
       "       [ 56.831604  ],\n",
       "       [ 61.308746  ],\n",
       "       [ 61.31768   ],\n",
       "       [ 34.53466   ],\n",
       "       [ 50.071404  ],\n",
       "       [ 39.79013   ],\n",
       "       [ 58.277664  ],\n",
       "       [ 34.722908  ],\n",
       "       [ -9.411627  ],\n",
       "       [ 93.72618   ],\n",
       "       [ 38.986565  ],\n",
       "       [ 25.933615  ],\n",
       "       [ 20.084055  ],\n",
       "       [ 64.6434    ],\n",
       "       [ 13.04233   ],\n",
       "       [ 38.478523  ],\n",
       "       [ 15.659731  ],\n",
       "       [ 17.085657  ],\n",
       "       [ 35.753975  ],\n",
       "       [ 59.82164   ],\n",
       "       [ -0.4053175 ],\n",
       "       [ 24.717928  ],\n",
       "       [ 48.46129   ],\n",
       "       [ -4.50498   ],\n",
       "       [ 22.358934  ],\n",
       "       [ 25.174566  ],\n",
       "       [ 37.804817  ],\n",
       "       [ 13.391096  ],\n",
       "       [ 56.310307  ],\n",
       "       [  6.2608204 ],\n",
       "       [ 22.672525  ],\n",
       "       [ 15.30559   ],\n",
       "       [ 22.433886  ],\n",
       "       [ 38.85054   ],\n",
       "       [ 47.824333  ],\n",
       "       [ 20.816072  ],\n",
       "       [ 34.68489   ],\n",
       "       [ 12.898531  ],\n",
       "       [ 26.635683  ],\n",
       "       [ 22.866976  ],\n",
       "       [ 81.96788   ],\n",
       "       [ 17.04117   ],\n",
       "       [ 64.302055  ],\n",
       "       [ 80.64504   ],\n",
       "       [ 47.05371   ],\n",
       "       [ 35.02482   ],\n",
       "       [  1.0151613 ],\n",
       "       [ 61.645195  ],\n",
       "       [ 21.573732  ],\n",
       "       [ 30.107706  ],\n",
       "       [  1.7907579 ],\n",
       "       [ 50.034145  ],\n",
       "       [ 62.620308  ],\n",
       "       [ 39.345894  ],\n",
       "       [ -5.980467  ],\n",
       "       [  9.292765  ],\n",
       "       [ -5.253767  ],\n",
       "       [ 47.668236  ],\n",
       "       [ 47.019135  ],\n",
       "       [ 20.119097  ],\n",
       "       [ 75.71229   ],\n",
       "       [ 13.154215  ],\n",
       "       [  4.9315395 ],\n",
       "       [ 66.900764  ],\n",
       "       [ 15.317629  ],\n",
       "       [ 45.44152   ],\n",
       "       [ 22.465902  ],\n",
       "       [ 40.49414   ],\n",
       "       [ 16.105547  ],\n",
       "       [ 31.828928  ],\n",
       "       [ 34.73915   ],\n",
       "       [ 23.424341  ],\n",
       "       [ 40.93386   ],\n",
       "       [ 34.607117  ],\n",
       "       [ 51.608513  ],\n",
       "       [106.35481   ],\n",
       "       [ -2.907019  ],\n",
       "       [  2.5824754 ],\n",
       "       [ 74.67322   ],\n",
       "       [ 55.533463  ],\n",
       "       [ 45.251434  ],\n",
       "       [ 33.127335  ],\n",
       "       [ 56.831604  ],\n",
       "       [ 40.827423  ],\n",
       "       [ 46.501236  ],\n",
       "       [  8.816034  ],\n",
       "       [ 17.390215  ],\n",
       "       [ 18.344774  ],\n",
       "       [ 77.50933   ],\n",
       "       [  6.414713  ],\n",
       "       [ 71.02361   ],\n",
       "       [ 49.987312  ],\n",
       "       [ 13.246569  ],\n",
       "       [ 11.563871  ],\n",
       "       [  4.9276447 ],\n",
       "       [ 51.13861   ],\n",
       "       [ 38.327568  ],\n",
       "       [ 30.986876  ],\n",
       "       [ 47.057     ],\n",
       "       [ 11.968706  ],\n",
       "       [ 27.241693  ],\n",
       "       [107.64625   ],\n",
       "       [ -9.616705  ],\n",
       "       [ 24.057695  ],\n",
       "       [ 36.002983  ],\n",
       "       [ 22.889902  ],\n",
       "       [ 44.19378   ],\n",
       "       [  8.2941    ],\n",
       "       [ 55.604393  ],\n",
       "       [ 21.767527  ],\n",
       "       [ 37.59973   ],\n",
       "       [ 73.66693   ],\n",
       "       [ 67.381836  ],\n",
       "       [ 38.43347   ],\n",
       "       [ 51.154198  ],\n",
       "       [ 18.760332  ],\n",
       "       [ 50.05397   ],\n",
       "       [ 16.419306  ],\n",
       "       [ 34.58954   ],\n",
       "       [ 22.855078  ],\n",
       "       [ 39.98832   ],\n",
       "       [  6.8412113 ],\n",
       "       [ 10.148775  ],\n",
       "       [ 25.203257  ],\n",
       "       [ 82.37647   ],\n",
       "       [ 54.094154  ],\n",
       "       [ 54.85356   ],\n",
       "       [ -5.978361  ],\n",
       "       [ 54.271667  ],\n",
       "       [ -9.633245  ],\n",
       "       [ 77.56914   ],\n",
       "       [ 35.900482  ],\n",
       "       [ 30.112864  ],\n",
       "       [ 33.450806  ],\n",
       "       [ 15.148348  ],\n",
       "       [ 56.96809   ],\n",
       "       [ -8.438108  ],\n",
       "       [ 33.45729   ],\n",
       "       [ 84.235016  ],\n",
       "       [ 25.584593  ],\n",
       "       [ 38.65879   ],\n",
       "       [ 62.52717   ],\n",
       "       [ 31.746912  ],\n",
       "       [ -8.802961  ],\n",
       "       [ 18.679918  ],\n",
       "       [ 20.689127  ],\n",
       "       [  8.577074  ],\n",
       "       [ 54.71592   ],\n",
       "       [ 61.210423  ],\n",
       "       [ 80.99133   ],\n",
       "       [ 33.013042  ],\n",
       "       [  7.822138  ],\n",
       "       [ 51.231407  ],\n",
       "       [ 55.73654   ],\n",
       "       [ 17.535185  ],\n",
       "       [ 56.95855   ],\n",
       "       [ 36.71335   ],\n",
       "       [ 20.233301  ],\n",
       "       [ 80.69332   ],\n",
       "       [ 58.48892   ],\n",
       "       [ 43.823334  ],\n",
       "       [ 81.74372   ],\n",
       "       [ 75.22177   ],\n",
       "       [ 39.689598  ],\n",
       "       [ 22.396952  ],\n",
       "       [ 65.826996  ],\n",
       "       [ 46.993473  ],\n",
       "       [ 27.969374  ],\n",
       "       [ 17.845499  ],\n",
       "       [ 35.661285  ],\n",
       "       [ 88.2061    ],\n",
       "       [ 20.8397    ],\n",
       "       [-11.163229  ],\n",
       "       [ 20.361856  ],\n",
       "       [ 50.21234   ],\n",
       "       [ 36.93866   ],\n",
       "       [ 43.421257  ],\n",
       "       [ 48.314674  ],\n",
       "       [  9.16601   ],\n",
       "       [ 44.19065   ],\n",
       "       [ 43.923004  ],\n",
       "       [ 20.387892  ],\n",
       "       [ 31.592638  ],\n",
       "       [  0.85001546],\n",
       "       [ 14.277781  ],\n",
       "       [ 51.00477   ],\n",
       "       [ 31.718111  ],\n",
       "       [ 80.864395  ],\n",
       "       [ 35.74193   ],\n",
       "       [  9.71277   ],\n",
       "       [ 99.45894   ],\n",
       "       [ 43.315643  ],\n",
       "       [ 21.328798  ],\n",
       "       [ 21.27637   ],\n",
       "       [ 61.247314  ],\n",
       "       [ 43.303352  ],\n",
       "       [ -8.7452755 ],\n",
       "       [ 19.562311  ],\n",
       "       [ 67.381836  ],\n",
       "       [ 39.85505   ],\n",
       "       [ 37.80014   ],\n",
       "       [101.01376   ],\n",
       "       [ 40.565437  ],\n",
       "       [ 19.06093   ],\n",
       "       [100.10021   ],\n",
       "       [ 27.176085  ],\n",
       "       [ 66.91828   ],\n",
       "       [  4.744211  ],\n",
       "       [ 12.970858  ],\n",
       "       [-17.42307   ],\n",
       "       [ 17.280512  ],\n",
       "       [ 15.121553  ],\n",
       "       [ 25.612154  ],\n",
       "       [ 23.16691   ],\n",
       "       [ 23.729677  ],\n",
       "       [ 38.65558   ],\n",
       "       [ 57.6249    ],\n",
       "       [ 94.35884   ],\n",
       "       [ 76.167274  ],\n",
       "       [ 74.3333    ],\n",
       "       [ -8.88545   ],\n",
       "       [ 22.396563  ],\n",
       "       [ 21.956614  ],\n",
       "       [  5.7976475 ],\n",
       "       [ 11.742556  ],\n",
       "       [  6.983858  ],\n",
       "       [  5.2937717 ],\n",
       "       [ 43.569687  ],\n",
       "       [ -7.3467007 ],\n",
       "       [ 31.300863  ],\n",
       "       [ 53.904152  ],\n",
       "       [ 20.28412   ],\n",
       "       [ 41.18338   ],\n",
       "       [ 74.040474  ],\n",
       "       [ 44.700092  ],\n",
       "       [ 27.266336  ],\n",
       "       [  8.467012  ],\n",
       "       [ 29.411715  ],\n",
       "       [ 20.49409   ],\n",
       "       [ 12.1887    ],\n",
       "       [ 20.758211  ],\n",
       "       [ 78.37775   ],\n",
       "       [ 38.876762  ],\n",
       "       [ 40.465553  ],\n",
       "       [ 32.996902  ],\n",
       "       [ 37.70797   ],\n",
       "       [ 90.1274    ],\n",
       "       [ 41.642853  ],\n",
       "       [ 21.966597  ],\n",
       "       [ 71.57151   ],\n",
       "       [  8.404284  ],\n",
       "       [ 21.854193  ],\n",
       "       [ 38.057266  ],\n",
       "       [ 19.606379  ],\n",
       "       [ 21.060919  ],\n",
       "       [  8.460657  ],\n",
       "       [  4.4649296 ],\n",
       "       [ 47.48211   ],\n",
       "       [ 95.15213   ],\n",
       "       [-10.496885  ],\n",
       "       [ 71.230316  ],\n",
       "       [ 47.43907   ],\n",
       "       [ 77.78893   ],\n",
       "       [  9.024019  ],\n",
       "       [  9.170153  ],\n",
       "       [  9.297075  ],\n",
       "       [ 53.045418  ],\n",
       "       [ 38.99685   ],\n",
       "       [ 12.0704365 ],\n",
       "       [ 17.07858   ],\n",
       "       [ 38.5981    ],\n",
       "       [ 66.055534  ],\n",
       "       [ 81.74372   ],\n",
       "       [ 38.85965   ],\n",
       "       [ 47.668007  ],\n",
       "       [ 73.71171   ],\n",
       "       [ 55.549335  ],\n",
       "       [ 22.329187  ],\n",
       "       [ 64.23018   ],\n",
       "       [ 36.53322   ],\n",
       "       [ 31.706373  ],\n",
       "       [ 48.502518  ],\n",
       "       [ 58.139874  ],\n",
       "       [ 19.765657  ],\n",
       "       [ 30.645578  ],\n",
       "       [ 74.548485  ],\n",
       "       [ 77.3715    ],\n",
       "       [  5.5375004 ],\n",
       "       [ 15.598749  ],\n",
       "       [ 34.357796  ],\n",
       "       [ -8.034636  ],\n",
       "       [ 22.91014   ],\n",
       "       [ 12.008112  ],\n",
       "       [  5.8559513 ],\n",
       "       [ 19.558558  ],\n",
       "       [ 55.517048  ],\n",
       "       [ 33.469322  ],\n",
       "       [ 63.050564  ],\n",
       "       [ 19.568567  ],\n",
       "       [ 85.69829   ],\n",
       "       [ 44.42578   ],\n",
       "       [ 47.788124  ],\n",
       "       [ 38.787636  ],\n",
       "       [ 41.514618  ],\n",
       "       [ 45.366447  ],\n",
       "       [ 20.895052  ]], dtype=float32)"
      ]
     },
     "execution_count": 16,
     "metadata": {},
     "output_type": "execute_result"
    }
   ],
   "source": [
    "y_pred = model.predict(X_test)\n",
    "y_pred"
   ]
  },
  {
   "cell_type": "code",
   "execution_count": 17,
   "metadata": {},
   "outputs": [
    {
     "data": {
      "text/plain": [
       "551.9076582591566"
      ]
     },
     "execution_count": 17,
     "metadata": {},
     "output_type": "execute_result"
    }
   ],
   "source": [
    "MSE = mean_squared_error(y_test, y_pred)\n",
    "MSE"
   ]
  },
  {
   "cell_type": "code",
   "execution_count": 18,
   "metadata": {},
   "outputs": [
    {
     "name": "stdout",
     "output_type": "stream",
     "text": [
      "551.9076582591566 0.0\n"
     ]
    }
   ],
   "source": [
    "mean = np.mean(MSE)\n",
    "sd = np.std(MSE)\n",
    "print(mean, sd)"
   ]
  },
  {
   "attachments": {},
   "cell_type": "markdown",
   "metadata": {},
   "source": [
    "- Create a list of 50 mean squared errors. Report the mean and standard deviation of the mean squared errors."
   ]
  },
  {
   "cell_type": "code",
   "execution_count": 19,
   "metadata": {},
   "outputs": [
    {
     "name": "stderr",
     "output_type": "stream",
     "text": [
      "  0%|          | 0/50 [00:00<?, ?it/s]"
     ]
    },
    {
     "name": "stdout",
     "output_type": "stream",
     "text": [
      "10/10 [==============================] - 0s 3ms/step\n"
     ]
    },
    {
     "name": "stderr",
     "output_type": "stream",
     "text": [
      "  2%|▏         | 1/50 [00:03<02:42,  3.32s/it]"
     ]
    },
    {
     "name": "stdout",
     "output_type": "stream",
     "text": [
      "MSE1=148.09921264648438\n",
      "10/10 [==============================] - 0s 1ms/step\n"
     ]
    },
    {
     "name": "stderr",
     "output_type": "stream",
     "text": [
      "  4%|▍         | 2/50 [00:06<02:22,  2.96s/it]"
     ]
    },
    {
     "name": "stdout",
     "output_type": "stream",
     "text": [
      "MSE2=133.16159057617188\n",
      "10/10 [==============================] - 0s 1ms/step\n"
     ]
    },
    {
     "name": "stderr",
     "output_type": "stream",
     "text": [
      "  6%|▌         | 3/50 [00:07<01:56,  2.47s/it]"
     ]
    },
    {
     "name": "stdout",
     "output_type": "stream",
     "text": [
      "MSE3=103.08289337158203\n",
      "10/10 [==============================] - 0s 1ms/step\n"
     ]
    },
    {
     "name": "stderr",
     "output_type": "stream",
     "text": [
      "  8%|▊         | 4/50 [00:09<01:43,  2.26s/it]"
     ]
    },
    {
     "name": "stdout",
     "output_type": "stream",
     "text": [
      "MSE4=98.10330200195312\n",
      "10/10 [==============================] - 0s 2ms/step\n"
     ]
    },
    {
     "name": "stderr",
     "output_type": "stream",
     "text": [
      " 10%|█         | 5/50 [00:12<01:41,  2.26s/it]"
     ]
    },
    {
     "name": "stdout",
     "output_type": "stream",
     "text": [
      "MSE5=99.22122955322266\n",
      "10/10 [==============================] - 0s 1ms/step\n"
     ]
    },
    {
     "name": "stderr",
     "output_type": "stream",
     "text": [
      " 12%|█▏        | 6/50 [00:14<01:37,  2.20s/it]"
     ]
    },
    {
     "name": "stdout",
     "output_type": "stream",
     "text": [
      "MSE6=83.41876983642578\n",
      "10/10 [==============================] - 0s 1ms/step\n"
     ]
    },
    {
     "name": "stderr",
     "output_type": "stream",
     "text": [
      " 14%|█▍        | 7/50 [00:16<01:31,  2.13s/it]"
     ]
    },
    {
     "name": "stdout",
     "output_type": "stream",
     "text": [
      "MSE7=90.60494232177734\n",
      "10/10 [==============================] - 0s 1ms/step\n"
     ]
    },
    {
     "name": "stderr",
     "output_type": "stream",
     "text": [
      " 16%|█▌        | 8/50 [00:18<01:26,  2.05s/it]"
     ]
    },
    {
     "name": "stdout",
     "output_type": "stream",
     "text": [
      "MSE8=70.87651824951172\n",
      "10/10 [==============================] - 0s 2ms/step\n"
     ]
    },
    {
     "name": "stderr",
     "output_type": "stream",
     "text": [
      " 18%|█▊        | 9/50 [00:19<01:22,  2.00s/it]"
     ]
    },
    {
     "name": "stdout",
     "output_type": "stream",
     "text": [
      "MSE9=71.6685791015625\n",
      "10/10 [==============================] - 0s 2ms/step\n"
     ]
    },
    {
     "name": "stderr",
     "output_type": "stream",
     "text": [
      " 20%|██        | 10/50 [00:21<01:19,  1.98s/it]"
     ]
    },
    {
     "name": "stdout",
     "output_type": "stream",
     "text": [
      "MSE10=65.60179901123047\n",
      "10/10 [==============================] - 0s 1ms/step\n"
     ]
    },
    {
     "name": "stderr",
     "output_type": "stream",
     "text": [
      " 22%|██▏       | 11/50 [00:23<01:15,  1.95s/it]"
     ]
    },
    {
     "name": "stdout",
     "output_type": "stream",
     "text": [
      "MSE11=65.93724060058594\n",
      "10/10 [==============================] - 0s 1ms/step\n"
     ]
    },
    {
     "name": "stderr",
     "output_type": "stream",
     "text": [
      " 24%|██▍       | 12/50 [00:25<01:13,  1.92s/it]"
     ]
    },
    {
     "name": "stdout",
     "output_type": "stream",
     "text": [
      "MSE12=55.377742767333984\n",
      "10/10 [==============================] - 0s 1ms/step\n"
     ]
    },
    {
     "name": "stderr",
     "output_type": "stream",
     "text": [
      " 26%|██▌       | 13/50 [00:27<01:13,  2.00s/it]"
     ]
    },
    {
     "name": "stdout",
     "output_type": "stream",
     "text": [
      "MSE13=68.17366790771484\n",
      "10/10 [==============================] - 0s 2ms/step\n"
     ]
    },
    {
     "name": "stderr",
     "output_type": "stream",
     "text": [
      " 28%|██▊       | 14/50 [00:29<01:11,  1.99s/it]"
     ]
    },
    {
     "name": "stdout",
     "output_type": "stream",
     "text": [
      "MSE14=54.721378326416016\n",
      "10/10 [==============================] - 0s 1ms/step\n"
     ]
    },
    {
     "name": "stderr",
     "output_type": "stream",
     "text": [
      " 30%|███       | 15/50 [00:31<01:08,  1.95s/it]"
     ]
    },
    {
     "name": "stdout",
     "output_type": "stream",
     "text": [
      "MSE15=50.081790924072266\n",
      "10/10 [==============================] - 0s 2ms/step\n"
     ]
    },
    {
     "name": "stderr",
     "output_type": "stream",
     "text": [
      " 32%|███▏      | 16/50 [00:33<01:06,  1.96s/it]"
     ]
    },
    {
     "name": "stdout",
     "output_type": "stream",
     "text": [
      "MSE16=46.12915802001953\n",
      "10/10 [==============================] - 0s 2ms/step\n"
     ]
    },
    {
     "name": "stderr",
     "output_type": "stream",
     "text": [
      " 34%|███▍      | 17/50 [00:35<01:07,  2.06s/it]"
     ]
    },
    {
     "name": "stdout",
     "output_type": "stream",
     "text": [
      "MSE17=51.82428741455078\n",
      "10/10 [==============================] - 0s 1ms/step\n"
     ]
    },
    {
     "name": "stderr",
     "output_type": "stream",
     "text": [
      " 36%|███▌      | 18/50 [00:37<01:05,  2.03s/it]"
     ]
    },
    {
     "name": "stdout",
     "output_type": "stream",
     "text": [
      "MSE18=49.01089096069336\n",
      "10/10 [==============================] - 0s 2ms/step\n"
     ]
    },
    {
     "name": "stderr",
     "output_type": "stream",
     "text": [
      " 38%|███▊      | 19/50 [00:40<01:04,  2.07s/it]"
     ]
    },
    {
     "name": "stdout",
     "output_type": "stream",
     "text": [
      "MSE19=46.42610549926758\n",
      "10/10 [==============================] - 0s 1ms/step\n"
     ]
    },
    {
     "name": "stderr",
     "output_type": "stream",
     "text": [
      " 40%|████      | 20/50 [00:42<01:03,  2.13s/it]"
     ]
    },
    {
     "name": "stdout",
     "output_type": "stream",
     "text": [
      "MSE20=54.770423889160156\n",
      "10/10 [==============================] - 0s 1ms/step\n"
     ]
    },
    {
     "name": "stderr",
     "output_type": "stream",
     "text": [
      " 42%|████▏     | 21/50 [00:44<01:01,  2.13s/it]"
     ]
    },
    {
     "name": "stdout",
     "output_type": "stream",
     "text": [
      "MSE21=58.26739501953125\n",
      "10/10 [==============================] - 0s 1ms/step\n"
     ]
    },
    {
     "name": "stderr",
     "output_type": "stream",
     "text": [
      " 44%|████▍     | 22/50 [00:46<00:58,  2.09s/it]"
     ]
    },
    {
     "name": "stdout",
     "output_type": "stream",
     "text": [
      "MSE22=47.6011848449707\n",
      "10/10 [==============================] - 0s 1ms/step\n"
     ]
    },
    {
     "name": "stderr",
     "output_type": "stream",
     "text": [
      " 46%|████▌     | 23/50 [00:48<00:54,  2.02s/it]"
     ]
    },
    {
     "name": "stdout",
     "output_type": "stream",
     "text": [
      "MSE23=43.53953552246094\n",
      "10/10 [==============================] - 0s 1ms/step\n"
     ]
    },
    {
     "name": "stderr",
     "output_type": "stream",
     "text": [
      " 48%|████▊     | 24/50 [00:50<00:50,  1.96s/it]"
     ]
    },
    {
     "name": "stdout",
     "output_type": "stream",
     "text": [
      "MSE24=45.79310989379883\n",
      "10/10 [==============================] - 0s 1ms/step\n"
     ]
    },
    {
     "name": "stderr",
     "output_type": "stream",
     "text": [
      " 50%|█████     | 25/50 [00:51<00:48,  1.92s/it]"
     ]
    },
    {
     "name": "stdout",
     "output_type": "stream",
     "text": [
      "MSE25=49.750831604003906\n",
      "10/10 [==============================] - 0s 2ms/step\n"
     ]
    },
    {
     "name": "stderr",
     "output_type": "stream",
     "text": [
      " 52%|█████▏    | 26/50 [00:54<00:47,  1.98s/it]"
     ]
    },
    {
     "name": "stdout",
     "output_type": "stream",
     "text": [
      "MSE26=52.15494918823242\n",
      "10/10 [==============================] - 0s 2ms/step\n"
     ]
    },
    {
     "name": "stderr",
     "output_type": "stream",
     "text": [
      " 54%|█████▍    | 27/50 [00:57<00:52,  2.28s/it]"
     ]
    },
    {
     "name": "stdout",
     "output_type": "stream",
     "text": [
      "MSE27=52.92048645019531\n",
      "10/10 [==============================] - 0s 2ms/step\n"
     ]
    },
    {
     "name": "stderr",
     "output_type": "stream",
     "text": [
      " 56%|█████▌    | 28/50 [00:59<00:48,  2.21s/it]"
     ]
    },
    {
     "name": "stdout",
     "output_type": "stream",
     "text": [
      "MSE28=44.04694366455078\n",
      "10/10 [==============================] - 0s 1ms/step\n"
     ]
    },
    {
     "name": "stderr",
     "output_type": "stream",
     "text": [
      " 58%|█████▊    | 29/50 [01:01<00:44,  2.12s/it]"
     ]
    },
    {
     "name": "stdout",
     "output_type": "stream",
     "text": [
      "MSE29=55.796607971191406\n",
      "10/10 [==============================] - 0s 2ms/step\n"
     ]
    },
    {
     "name": "stderr",
     "output_type": "stream",
     "text": [
      " 60%|██████    | 30/50 [01:03<00:43,  2.19s/it]"
     ]
    },
    {
     "name": "stdout",
     "output_type": "stream",
     "text": [
      "MSE30=47.88011169433594\n",
      "10/10 [==============================] - 0s 2ms/step\n"
     ]
    },
    {
     "name": "stderr",
     "output_type": "stream",
     "text": [
      " 62%|██████▏   | 31/50 [01:05<00:42,  2.23s/it]"
     ]
    },
    {
     "name": "stdout",
     "output_type": "stream",
     "text": [
      "MSE31=50.01919174194336\n",
      "10/10 [==============================] - 0s 1ms/step\n"
     ]
    },
    {
     "name": "stderr",
     "output_type": "stream",
     "text": [
      " 64%|██████▍   | 32/50 [01:07<00:38,  2.15s/it]"
     ]
    },
    {
     "name": "stdout",
     "output_type": "stream",
     "text": [
      "MSE32=41.92542266845703\n",
      "10/10 [==============================] - 0s 1ms/step\n"
     ]
    },
    {
     "name": "stderr",
     "output_type": "stream",
     "text": [
      " 66%|██████▌   | 33/50 [01:09<00:34,  2.05s/it]"
     ]
    },
    {
     "name": "stdout",
     "output_type": "stream",
     "text": [
      "MSE33=46.55187225341797\n",
      "10/10 [==============================] - 0s 1ms/step\n"
     ]
    },
    {
     "name": "stderr",
     "output_type": "stream",
     "text": [
      " 68%|██████▊   | 34/50 [01:11<00:31,  1.99s/it]"
     ]
    },
    {
     "name": "stdout",
     "output_type": "stream",
     "text": [
      "MSE34=49.713539123535156\n",
      "10/10 [==============================] - 0s 1ms/step\n"
     ]
    },
    {
     "name": "stderr",
     "output_type": "stream",
     "text": [
      " 70%|███████   | 35/50 [01:13<00:29,  1.95s/it]"
     ]
    },
    {
     "name": "stdout",
     "output_type": "stream",
     "text": [
      "MSE35=45.1710205078125\n",
      "10/10 [==============================] - 0s 1ms/step\n"
     ]
    },
    {
     "name": "stderr",
     "output_type": "stream",
     "text": [
      " 72%|███████▏  | 36/50 [01:15<00:26,  1.92s/it]"
     ]
    },
    {
     "name": "stdout",
     "output_type": "stream",
     "text": [
      "MSE36=51.2888298034668\n",
      "10/10 [==============================] - 0s 1ms/step\n"
     ]
    },
    {
     "name": "stderr",
     "output_type": "stream",
     "text": [
      " 74%|███████▍  | 37/50 [01:17<00:25,  1.97s/it]"
     ]
    },
    {
     "name": "stdout",
     "output_type": "stream",
     "text": [
      "MSE37=59.766483306884766\n",
      "10/10 [==============================] - 0s 1ms/step\n"
     ]
    },
    {
     "name": "stderr",
     "output_type": "stream",
     "text": [
      " 76%|███████▌  | 38/50 [01:18<00:23,  1.92s/it]"
     ]
    },
    {
     "name": "stdout",
     "output_type": "stream",
     "text": [
      "MSE38=51.25933837890625\n",
      "10/10 [==============================] - 0s 1ms/step\n"
     ]
    },
    {
     "name": "stderr",
     "output_type": "stream",
     "text": [
      " 78%|███████▊  | 39/50 [01:20<00:21,  1.92s/it]"
     ]
    },
    {
     "name": "stdout",
     "output_type": "stream",
     "text": [
      "MSE39=45.59597396850586\n",
      "10/10 [==============================] - 0s 1ms/step\n"
     ]
    },
    {
     "name": "stderr",
     "output_type": "stream",
     "text": [
      " 80%|████████  | 40/50 [01:22<00:19,  1.91s/it]"
     ]
    },
    {
     "name": "stdout",
     "output_type": "stream",
     "text": [
      "MSE40=43.05650329589844\n",
      "10/10 [==============================] - 0s 1ms/step\n"
     ]
    },
    {
     "name": "stderr",
     "output_type": "stream",
     "text": [
      " 82%|████████▏ | 41/50 [01:24<00:17,  1.90s/it]"
     ]
    },
    {
     "name": "stdout",
     "output_type": "stream",
     "text": [
      "MSE41=54.55913162231445\n",
      "10/10 [==============================] - 0s 2ms/step\n"
     ]
    },
    {
     "name": "stderr",
     "output_type": "stream",
     "text": [
      " 84%|████████▍ | 42/50 [01:26<00:15,  1.92s/it]"
     ]
    },
    {
     "name": "stdout",
     "output_type": "stream",
     "text": [
      "MSE42=47.73707962036133\n",
      "10/10 [==============================] - 0s 1ms/step\n"
     ]
    },
    {
     "name": "stderr",
     "output_type": "stream",
     "text": [
      " 86%|████████▌ | 43/50 [01:28<00:13,  1.93s/it]"
     ]
    },
    {
     "name": "stdout",
     "output_type": "stream",
     "text": [
      "MSE43=45.03664016723633\n",
      "10/10 [==============================] - 0s 1ms/step\n"
     ]
    },
    {
     "name": "stderr",
     "output_type": "stream",
     "text": [
      " 88%|████████▊ | 44/50 [01:30<00:11,  1.91s/it]"
     ]
    },
    {
     "name": "stdout",
     "output_type": "stream",
     "text": [
      "MSE44=52.2896728515625\n",
      "10/10 [==============================] - 0s 1ms/step\n"
     ]
    },
    {
     "name": "stderr",
     "output_type": "stream",
     "text": [
      " 90%|█████████ | 45/50 [01:32<00:09,  1.88s/it]"
     ]
    },
    {
     "name": "stdout",
     "output_type": "stream",
     "text": [
      "MSE45=51.84748077392578\n",
      "10/10 [==============================] - 0s 1ms/step\n"
     ]
    },
    {
     "name": "stderr",
     "output_type": "stream",
     "text": [
      " 92%|█████████▏| 46/50 [01:34<00:07,  1.87s/it]"
     ]
    },
    {
     "name": "stdout",
     "output_type": "stream",
     "text": [
      "MSE46=49.66443634033203\n",
      "10/10 [==============================] - 0s 1ms/step\n"
     ]
    },
    {
     "name": "stderr",
     "output_type": "stream",
     "text": [
      " 94%|█████████▍| 47/50 [01:35<00:05,  1.86s/it]"
     ]
    },
    {
     "name": "stdout",
     "output_type": "stream",
     "text": [
      "MSE47=46.456565856933594\n",
      "10/10 [==============================] - 0s 1ms/step\n"
     ]
    },
    {
     "name": "stderr",
     "output_type": "stream",
     "text": [
      " 96%|█████████▌| 48/50 [01:37<00:03,  1.85s/it]"
     ]
    },
    {
     "name": "stdout",
     "output_type": "stream",
     "text": [
      "MSE48=49.09062576293945\n",
      "10/10 [==============================] - 0s 1ms/step\n"
     ]
    },
    {
     "name": "stderr",
     "output_type": "stream",
     "text": [
      " 98%|█████████▊| 49/50 [01:39<00:01,  1.88s/it]"
     ]
    },
    {
     "name": "stdout",
     "output_type": "stream",
     "text": [
      "MSE49=50.576622009277344\n",
      "10/10 [==============================] - 0s 1ms/step\n"
     ]
    },
    {
     "name": "stderr",
     "output_type": "stream",
     "text": [
      "100%|██████████| 50/50 [01:41<00:00,  2.03s/it]"
     ]
    },
    {
     "name": "stdout",
     "output_type": "stream",
     "text": [
      "MSE50=50.984458923339844\n",
      "Mean: 59.73267156194898\n",
      "Standard Deviation: 22.14642378926111\n"
     ]
    },
    {
     "name": "stderr",
     "output_type": "stream",
     "text": [
      "\n"
     ]
    }
   ],
   "source": [
    "list_MSE = []\n",
    "for i in tqdm(range (0, 50)):\n",
    "    X_train, X_test, y_train, y_test = train_test_split(X, y, test_size=0.30, random_state=i)\n",
    "    model.fit(X_train, y_train, epochs=50, verbose=0)\n",
    "    value_MSE = model.evaluate(X_test, y_test, verbose=0)\n",
    "    y_pred = model.predict(X_test)\n",
    "    MSE = mean_squared_error(y_test, y_pred)\n",
    "    list_MSE.append(MSE)\n",
    "    print(\"MSE\" + str(i+1) + \"=\" + str(value_MSE))\n",
    "\n",
    "mean = np.mean(list_MSE)\n",
    "sd = np.std(list_MSE)\n",
    "\n",
    "print(\"Mean: \"+str(mean))\n",
    "print(\"Standard Deviation: \"+str(sd))"
   ]
  },
  {
   "cell_type": "code",
   "execution_count": null,
   "metadata": {},
   "outputs": [],
   "source": []
  }
 ],
 "metadata": {
  "kernelspec": {
   "display_name": "base",
   "language": "python",
   "name": "python3"
  },
  "language_info": {
   "codemirror_mode": {
    "name": "ipython",
    "version": 3
   },
   "file_extension": ".py",
   "mimetype": "text/x-python",
   "name": "python",
   "nbconvert_exporter": "python",
   "pygments_lexer": "ipython3",
   "version": "3.9.12"
  },
  "orig_nbformat": 4
 },
 "nbformat": 4,
 "nbformat_minor": 2
}
